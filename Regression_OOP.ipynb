{
  "nbformat": 4,
  "nbformat_minor": 0,
  "metadata": {
    "colab": {
      "provenance": [],
      "mount_file_id": "18Vyc2vTJnLX-pGiPwqZp01rnHCWPqY2m",
      "authorship_tag": "ABX9TyOsbhEBao8ZzViV0v6hgGdf",
      "include_colab_link": true
    },
    "kernelspec": {
      "name": "python3",
      "display_name": "Python 3"
    },
    "language_info": {
      "name": "python"
    }
  },
  "cells": [
    {
      "cell_type": "markdown",
      "metadata": {
        "id": "view-in-github",
        "colab_type": "text"
      },
      "source": [
        "<a href=\"https://colab.research.google.com/github/rekuantsun/Hoc-May/blob/main/Regression_OOP.ipynb\" target=\"_parent\"><img src=\"https://colab.research.google.com/assets/colab-badge.svg\" alt=\"Open In Colab\"/></a>"
      ]
    },
    {
      "cell_type": "code",
      "execution_count": 1,
      "metadata": {
        "id": "IIUzwTEmo0oA"
      },
      "outputs": [],
      "source": [
        "import numpy as np\n",
        "import os"
      ]
    },
    {
      "cell_type": "code",
      "source": [
        "class Regression:\n",
        "    def __init__(self):\n",
        "        pass\n",
        "    def loss(self, X, y, w):\n",
        "        pass"
      ],
      "metadata": {
        "id": "9GZdt2iio9Dn"
      },
      "execution_count": 4,
      "outputs": []
    },
    {
      "cell_type": "code",
      "source": [
        "class LogisticRegression(Regression):\n",
        "    def __init__(self):\n",
        "        pass\n",
        "    \n",
        "    def __sigmoid(self, X, w):\n",
        "        result = 1/(1 + np.exp(-np.dot(X, w)))\n",
        "        return result\n",
        "\n",
        "    def loss(self, X, y, w):\n",
        "        m = y.shape[0]\n",
        "        result = (-1/m)*np.sum(np.dot(y.T, np.log(self.__sigmoid(X, w))) + np.dot((1 - y).T, np.log(1 - self.__sigmoid(X, w))))\n",
        "        return result\n",
        "\n",
        "    def gradient(self, X, y, w):\n",
        "        m = X.shape[0]\n",
        "        result = (1/m)*np.dot(X.T, self.__sigmoid(X, w) - y)\n",
        "        return result\n",
        "\n",
        "    def gradientDescent(self,X, y, w, alpha, n_iters):\n",
        "        w_optimal = w.copy()\n",
        "        J_history = []\n",
        "        for i in range(n_iters):\n",
        "            w_optimal = w_optimal - alpha*self.gradient(X, y, w_optimal)\n",
        "            J_history.append(self.loss(X, y, w_optimal))\n",
        "        return w_optimal, J_history"
      ],
      "metadata": {
        "id": "kBrSKlekppLo"
      },
      "execution_count": 5,
      "outputs": []
    },
    {
      "cell_type": "code",
      "source": [
        "class DataNorm:\n",
        "    def __init__(self):\n",
        "        pass\n",
        "    def readData(self, filePath: str, filename: str):\n",
        "        data = np.loadtxt(os.path.join(filePath, filename), delimiter = ',')\n",
        "        X = data[:,:-1]\n",
        "        y = data[:, -1]\n",
        "        m = X.shape[0]\n",
        "        n = X.shape[1]\n",
        "        X = np.reshape(X, (m,n))\n",
        "        y = np.reshape(y, (m,1))\n",
        "        #Them cot x0 = 1 vao X\n",
        "        x0 = np.ones((m,1))\n",
        "        X = np.column_stack([x0, X])\n",
        "        return X, y\n",
        "    def normalizeData(self, A):\n",
        "        pass\n",
        "\n",
        "class MaxMinNorm(DataNorm):\n",
        "    def __init__(self):\n",
        "        pass\n",
        "    \n",
        "    def __MaxMinScaling(self, data):\n",
        "        avg = np.mean(data)\n",
        "        sln = data.max()\n",
        "        snn = data.min()\n",
        "        data_scl = (data - avg)/(sln - snn)\n",
        "        print(data_scl[1])\n",
        "        return data_scl\n",
        "    \n",
        "    def normalizeData(self, X):\n",
        "        X_scl = X[:, 0]\n",
        "        for i in range(1, X.shape[1]):\n",
        "            scl = self.__MaxMinScaling(X[:, i])\n",
        "            X_scl = np.column_stack([X_scl, scl])\n",
        "        return X_scl"
      ],
      "metadata": {
        "id": "hbrWrS7xeq-B"
      },
      "execution_count": 6,
      "outputs": []
    },
    {
      "cell_type": "code",
      "source": [
        "def main():\n",
        "    data = MaxMinNorm()\n",
        "    X, y = data.readData('/content/drive/MyDrive','ex2data1.txt')\n",
        "    X_scl = data.normalizeData(X)\n",
        "    n = X_scl.shape[1]\n",
        "    w = np.zeros((n, 1))\n",
        "    alpha = 0.01\n",
        "    n_iters = 2000\n",
        "    model = LogisticRegression()\n",
        "    w_opt, J_hist = model.gradientDescent(X_scl, y, w, alpha, n_iters)\n",
        "    print(\"Ket qua la: \")\n",
        "    print('\\t\\tTrong so w toi uu la: ', w_opt)\n",
        "    print('\\t\\tGia tri Loss toi uu: ', J_hist[-1])\n",
        "\n",
        "if __name__ == \"__main__\":\n",
        "    main()"
      ],
      "metadata": {
        "colab": {
          "base_uri": "https://localhost:8080/"
        },
        "id": "uFqwZx1He1fE",
        "outputId": "6f95b6bc-dbf1-4bf9-bfc3-7c9f11473834"
      },
      "execution_count": 8,
      "outputs": [
        {
          "output_type": "stream",
          "name": "stdout",
          "text": [
            "-0.5067801656080071\n",
            "-0.3270580397857178\n",
            "Ket qua la: \n",
            "\t\tTrong so w toi uu la:  [[0.41683919]\n",
            " [1.31218868]\n",
            " [1.15423699]]\n",
            "\t\tGia tri Loss toi uu:  0.5186665295508813\n"
          ]
        }
      ]
    },
    {
      "cell_type": "code",
      "source": [],
      "metadata": {
        "id": "gKWacahZe4YD"
      },
      "execution_count": null,
      "outputs": []
    }
  ]
}