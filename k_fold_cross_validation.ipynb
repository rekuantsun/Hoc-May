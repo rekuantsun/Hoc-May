{
  "nbformat": 4,
  "nbformat_minor": 0,
  "metadata": {
    "colab": {
      "provenance": [],
      "authorship_tag": "ABX9TyPQ2nv5dfWXG/fMmC59fddq",
      "include_colab_link": true
    },
    "kernelspec": {
      "name": "python3",
      "display_name": "Python 3"
    },
    "language_info": {
      "name": "python"
    }
  },
  "cells": [
    {
      "cell_type": "markdown",
      "metadata": {
        "id": "view-in-github",
        "colab_type": "text"
      },
      "source": [
        "<a href=\"https://colab.research.google.com/github/rekuantsun/Hoc-May/blob/main/k_fold_cross_validation.ipynb\" target=\"_parent\"><img src=\"https://colab.research.google.com/assets/colab-badge.svg\" alt=\"Open In Colab\"/></a>"
      ]
    },
    {
      "cell_type": "markdown",
      "source": [
        "### Import Libraries\n"
      ],
      "metadata": {
        "id": "CkiEWuuTDf6F"
      }
    },
    {
      "cell_type": "code",
      "source": [
        "import numpy as np\n",
        "import os\n",
        "from sklearn.model_selection import train_test_split\n",
        "from sklearn.model_selection import KFold\n",
        "from sklearn.metrics import mean_squared_error\n",
        "from sklearn.preprocessing import MinMaxScaler\n",
        "from sklearn.linear_model import LinearRegression\n",
        "from sklearn.linear_model import Lasso\n",
        "from sklearn.linear_model import Ridge"
      ],
      "metadata": {
        "id": "BkewREBDDk-w"
      },
      "execution_count": 8,
      "outputs": []
    },
    {
      "cell_type": "markdown",
      "source": [
        "### Huấn luyện mô hình HQTT với 10-fold CV sử dụng Gradient Descent"
      ],
      "metadata": {
        "id": "da27UGBoTPiu"
      }
    },
    {
      "cell_type": "code",
      "execution_count": 5,
      "metadata": {
        "colab": {
          "base_uri": "https://localhost:8080/"
        },
        "id": "1twsODEnQu7s",
        "outputId": "95f7e124-f5b0-44c7-ecc0-97d5c25ad523"
      },
      "outputs": [
        {
          "output_type": "stream",
          "name": "stdout",
          "text": [
            "Huấn luyện mô hình với k-fold\n",
            "\tBước lặp huấn luyện thứ:  1\n",
            "\t\tĐánh giá mô hình trên tập dữ liệu validation\n",
            "\t\t\tMSE:  0.007603148302747178\n",
            "\tBước lặp huấn luyện thứ:  2\n",
            "\t\tĐánh giá mô hình trên tập dữ liệu validation\n",
            "\t\t\tMSE:  0.01042640957668497\n",
            "\tBước lặp huấn luyện thứ:  3\n",
            "\t\tĐánh giá mô hình trên tập dữ liệu validation\n",
            "\t\t\tMSE:  0.005618257783946246\n",
            "\tBước lặp huấn luyện thứ:  4\n",
            "\t\tĐánh giá mô hình trên tập dữ liệu validation\n",
            "\t\t\tMSE:  0.03219241151290909\n",
            "\tBước lặp huấn luyện thứ:  5\n",
            "\t\tĐánh giá mô hình trên tập dữ liệu validation\n",
            "\t\t\tMSE:  0.010787307267518247\n",
            "\tBước lặp huấn luyện thứ:  6\n",
            "\t\tĐánh giá mô hình trên tập dữ liệu validation\n",
            "\t\t\tMSE:  0.027773829789309024\n",
            "\tBước lặp huấn luyện thứ:  7\n",
            "\t\tĐánh giá mô hình trên tập dữ liệu validation\n",
            "\t\t\tMSE:  0.023362977106992946\n",
            "\tBước lặp huấn luyện thứ:  8\n",
            "\t\tĐánh giá mô hình trên tập dữ liệu validation\n",
            "\t\t\tMSE:  0.01003361495747874\n",
            "\tBước lặp huấn luyện thứ:  9\n",
            "\t\tĐánh giá mô hình trên tập dữ liệu validation\n",
            "\t\t\tMSE:  0.021680569897733263\n",
            "\tBước lặp huấn luyện thứ:  10\n",
            "\t\tĐánh giá mô hình trên tập dữ liệu validation\n",
            "\t\t\tMSE:  0.0033553160654192747\n",
            "ĐÁNH GIÁ HIỆU NĂNG CỦA MÔ HÌNH TRÊN TẬP DỮ LIỆU TEST\n",
            "\tMSE:  0.17172549187136585\n"
          ]
        }
      ],
      "source": [
        "def readData(filePath: str, filename: str):\n",
        "  #Đọc dữ liệu\n",
        "  D = np.loadtxt(os.path.join(filePath, filename), delimiter = ',')\n",
        "  #Điều chỉnh dữ liệu - do đây là mô hình HQTT nên chấp nhận scale cả vector y\n",
        "  scaler = MinMaxScaler()\n",
        "  scaler.fit(D)\n",
        "  D = scaler.transform(D)\n",
        "  X, y = D[:, :-1], D[:, -1]\n",
        "  x0 = np.ones((X.shape[0], 1))\n",
        "  X = np.column_stack([x0, X])\n",
        "  return X, y\n",
        "\n",
        "def computeLoss(X, y, w):\n",
        "  m = y.shape[0]\n",
        "  J = 0\n",
        "  h = np.dot(X, w)\n",
        "  J = (1/(2*m))*np.sum(np.square(h - y))\n",
        "  return J\n",
        "\n",
        "def gradientDescent(X, y, w, alpha, n):\n",
        "  m = y.shape[0]\n",
        "  J_history = []\n",
        "  w_optimal = w.copy()\n",
        "  for i in range(n):\n",
        "    h = np.dot(X, w_optimal)\n",
        "    error = h - y\n",
        "    w_optimal = w_optimal - (alpha/m)*np.dot(X.T, error)\n",
        "    J_history.append(computeLoss(X=X, y=y, w=w_optimal))\n",
        "  return w_optimal, J_history\n",
        "\n",
        "def k_fold_10_GD(kf, n, alpha, step, w_opt, X_train, y_train, X):\n",
        "  for train2_index, val_index in kf.split(X = X_train,y = y_train):\n",
        "    step = step + 1\n",
        "    print('\\tBước lặp huấn luyện thứ: ', step)\n",
        "    X_train2, X_val = X_train[train2_index], X_train[val_index]\n",
        "    y_train2, y_val = y_train[train2_index], y_train[val_index]\n",
        "    #Do chương trình chúng ta viết quy định y la mx1 nên cần reshape\n",
        "    w_opt, J_history = gradientDescent(X=X_train2,y=y_train2.reshape((y_train2.shape[0],1)),\n",
        "    w=w_opt, alpha=alpha, n=n)\n",
        "    print('\\t\\tĐánh giá mô hình trên tập dữ liệu validation')\n",
        "    y_hat = np.dot(X_val, w_opt)\n",
        "    print('\\t\\t\\tMSE: ', mean_squared_error(y_val, y_hat))\n",
        "\n",
        "def main():\n",
        "  #Bước 1: Đọc dữ liệu\n",
        "  X, y = readData('/content', 'ex1data2.txt')\n",
        "  #Bước 2: Phân chia train - test theo tỉ lệ 70% - 30%\n",
        "  X_train, X_test, y_train, y_test = train_test_split(X, y, test_size=0.30,\n",
        "  random_state=15)\n",
        "  #Bước 3: Xác định k-fold\n",
        "  kf = KFold(n_splits=10)\n",
        "  #Bước 4: Huấn luyện mô hình\n",
        "  print('Huấn luyện mô hình với k-fold')\n",
        "  w_opt = np.zeros((X.shape[1], 1))\n",
        "  n = 1500\n",
        "  alpha = 0.01\n",
        "  step = 0\n",
        "  k_fold_10_GD(kf, n, alpha, step, w_opt, X_train, y_train, X)\n",
        "  #Bước 5: Kiểm định mô hình với tập dữ liệu test\n",
        "  print('ĐÁNH GIÁ HIỆU NĂNG CỦA MÔ HÌNH TRÊN TẬP DỮ LIỆU TEST')\n",
        "  y_hat = np.dot(X_test, w_opt)\n",
        "  print('\\tMSE: ', mean_squared_error(y_test, y_hat))\n",
        "if __name__ == '__main__':\n",
        "  main()"
      ]
    },
    {
      "cell_type": "markdown",
      "source": [
        "### Huấn luyện mô hình HQTT với 10-fold CV sử dụng LinearRegression "
      ],
      "metadata": {
        "id": "6pAnc0VMcwep"
      }
    },
    {
      "cell_type": "code",
      "source": [
        "def readData(filePath: str,filename: str):\n",
        "  D = np.loadtxt(os.path.join('/content', 'ex1data2.txt'), delimiter=',')\n",
        "  scaler = MinMaxScaler()\n",
        "  scaler.fit(D)\n",
        "  D = scaler.transform(D)\n",
        "  X, y = D[:, :-1], D[:, -1]\n",
        "  return X, y\n",
        "\n",
        "def k_fold_10_linear(kf, X_train, y_train, X, model, step):\n",
        "  for train2_index, val_index in kf.split(X = X_train,y = y_train):\n",
        "    step = step + 1\n",
        "    print('\\tBước lặp huấn luyện thứ: ', step)\n",
        "    w_opt = np.zeros((X.shape[1], 1))\n",
        "    X_train2, X_val = X_train[train2_index], X_train[val_index]\n",
        "    y_train2, y_val = y_train[train2_index], y_train[val_index]\n",
        "    model.fit(X_train2, y_train2)\n",
        "    print('\\t\\tĐánh giá mô hình trên tập dữ liệu validation')\n",
        "    y_hat = model.predict(X_val)\n",
        "    print('\\t\\t\\tMSE: ', mean_squared_error(y_val, y_hat))\n",
        "\n",
        "def main():\n",
        "  #Bước 1: Đọc dữ liệu\n",
        "  X, y = readData('/content','ex1data2.txt')\n",
        "  #Bước 2: Phân chia train - test theo tỉ lệ 70% - 30%\n",
        "  X_train, X_test, y_train, y_test = train_test_split(X, y, test_size=0.30, random_state=15)\n",
        "  #Bước 3: Xác định k-fold\n",
        "  kf = KFold(n_splits=10)\n",
        "  #Bước 4: Huấn luyện mô hình\n",
        "  print('Huấn luyện mô hình LinearRegression với k-fold')\n",
        "  model = LinearRegression()\n",
        "  step = 0\n",
        "  k_fold_10_linear(kf, X_train, y_train, X, model, step)\n",
        "  #Bước 5: Kiểm định mô hình với tập dữ liệu test\n",
        "  print('ĐÁNH GIÁ HIỆU NĂNG CỦA MÔ HÌNH TRÊN TẬP DỮ LIỆU TEST')\n",
        "  y_hat = model.predict(X_test)\n",
        "  print('\\tMSE: ', mean_squared_error(y_test, y_hat))\n",
        "if __name__ == \"__main__\":\n",
        "  main()"
      ],
      "metadata": {
        "colab": {
          "base_uri": "https://localhost:8080/"
        },
        "id": "gqF0qF4ic1Pc",
        "outputId": "c2bfcfec-72d8-4a95-82b0-4e524c4a8fc5"
      },
      "execution_count": 6,
      "outputs": [
        {
          "output_type": "stream",
          "name": "stdout",
          "text": [
            "Huấn luyện mô hình LinearRegression với k-fold\n",
            "\tBước lặp huấn luyện thứ:  1\n",
            "\t\tĐánh giá mô hình trên tập dữ liệu validation\n",
            "\t\t\tMSE:  0.017411617285763195\n",
            "\tBước lặp huấn luyện thứ:  2\n",
            "\t\tĐánh giá mô hình trên tập dữ liệu validation\n",
            "\t\t\tMSE:  0.007521757373056872\n",
            "\tBước lặp huấn luyện thứ:  3\n",
            "\t\tĐánh giá mô hình trên tập dữ liệu validation\n",
            "\t\t\tMSE:  0.003876138559617204\n",
            "\tBước lặp huấn luyện thứ:  4\n",
            "\t\tĐánh giá mô hình trên tập dữ liệu validation\n",
            "\t\t\tMSE:  0.021833013405928244\n",
            "\tBước lặp huấn luyện thứ:  5\n",
            "\t\tĐánh giá mô hình trên tập dữ liệu validation\n",
            "\t\t\tMSE:  0.010291952905878145\n",
            "\tBước lặp huấn luyện thứ:  6\n",
            "\t\tĐánh giá mô hình trên tập dữ liệu validation\n",
            "\t\t\tMSE:  0.021192949345013895\n",
            "\tBước lặp huấn luyện thứ:  7\n",
            "\t\tĐánh giá mô hình trên tập dữ liệu validation\n",
            "\t\t\tMSE:  0.04349119371377332\n",
            "\tBước lặp huấn luyện thứ:  8\n",
            "\t\tĐánh giá mô hình trên tập dữ liệu validation\n",
            "\t\t\tMSE:  0.015677122297274936\n",
            "\tBước lặp huấn luyện thứ:  9\n",
            "\t\tĐánh giá mô hình trên tập dữ liệu validation\n",
            "\t\t\tMSE:  0.019790401558297\n",
            "\tBước lặp huấn luyện thứ:  10\n",
            "\t\tĐánh giá mô hình trên tập dữ liệu validation\n",
            "\t\t\tMSE:  0.0023789835865191933\n",
            "ĐÁNH GIÁ HIỆU NĂNG CỦA MÔ HÌNH TRÊN TẬP DỮ LIỆU TEST\n",
            "\tMSE:  0.02462904226672839\n"
          ]
        }
      ]
    },
    {
      "cell_type": "markdown",
      "source": [
        "### Huấn luyện mô hình HQTT với 10-fold CV sử dụng Lasso\n"
      ],
      "metadata": {
        "id": "OYwlLxF5kT9N"
      }
    },
    {
      "cell_type": "code",
      "source": [
        "def readData(filePath: str,filename: str):\n",
        "  #Bước 1: Đọc dữ liệu\n",
        "  D = np.loadtxt(os.path.join('/content', 'ex1data2.txt'), delimiter=',')\n",
        "  #Bước 2: Điều chỉnh dữ liệu - do đây là mô hình HQTT nên chấp nhận scale cả vector y\n",
        "  scaler = MinMaxScaler()\n",
        "  scaler.fit(D)\n",
        "  D = scaler.transform(D)\n",
        "  #Bước 3: Phân chia train - test theo tỉ lệ 70% - 30%\n",
        "  X, y = D[:, :-1], D[:, -1]\n",
        "  return X, y\n",
        "\n",
        "def k_fold_10_lasso(kf, X_train, y_train, X, model, step, alpha):\n",
        "  for train2_index, val_index in kf.split(X = X_train,y = y_train):\n",
        "    step = step + 1\n",
        "    print('\\tBước lặp huấn luyện thứ: ', step)\n",
        "    w_opt = np.zeros((X.shape[1], 1))\n",
        "    X_train2, X_val = X_train[train2_index], X_train[val_index]\n",
        "    y_train2, y_val = y_train[train2_index], y_train[val_index]\n",
        "    model.fit(X_train2, y_train2)\n",
        "    print('\\t\\tĐánh giá mô hình trên tập dữ liệu validation')\n",
        "    y_hat = model.predict(X_val)\n",
        "    print('\\t\\t\\tMSE: ', mean_squared_error(y_val, y_hat))\n",
        "\n",
        "def main():\n",
        "  #Bước 1: Đọc dữ liệu\n",
        "  X, y = readData(\"/content\",\"ex1data2.txt\")\n",
        "  #Bước 2: Phân chia train - test theo tỉ lệ 70% - 30%\n",
        "  X_train, X_test, y_train, y_test = train_test_split(X, y, test_size=0.30, random_state=15)\n",
        "  #Bước 3: Xác định k-fold\n",
        "  kf = KFold(n_splits=10)\n",
        "  #Bước 4: Huấn luyện mô hình\n",
        "  print('Huấn luyện mô hình Lasso với k-fold')\n",
        "  model = Lasso()\n",
        "  step = 0\n",
        "  alpha = 0.1\n",
        "  k_fold_10_lasso(kf, X_train, y_train, X, model, step, alpha)\n",
        "  #Bước 5: Kiểm định mô hình với tập dữ liệu test\n",
        "  print('ĐÁNH GIÁ HIỆU NĂNG CỦA MÔ HÌNH TRÊN TẬP DỮ LIỆU TEST')\n",
        "  y_hat = model.predict(X_test)\n",
        "  print('\\tMSE: ', mean_squared_error(y_test, y_hat))\n",
        "\n",
        "if __name__ == \"__main__\":\n",
        "  main()"
      ],
      "metadata": {
        "id": "FiCvrShaemzz",
        "colab": {
          "base_uri": "https://localhost:8080/"
        },
        "outputId": "149cc12d-056a-40a5-dd1c-a1c2f67c18da"
      },
      "execution_count": 7,
      "outputs": [
        {
          "output_type": "stream",
          "name": "stdout",
          "text": [
            "Huấn luyện mô hình Lasso với k-fold\n",
            "\tBước lặp huấn luyện thứ:  1\n",
            "\t\tĐánh giá mô hình trên tập dữ liệu validation\n",
            "\t\t\tMSE:  0.004447991101057281\n",
            "\tBước lặp huấn luyện thứ:  2\n",
            "\t\tĐánh giá mô hình trên tập dữ liệu validation\n",
            "\t\t\tMSE:  0.036569107012577116\n",
            "\tBước lặp huấn luyện thứ:  3\n",
            "\t\tĐánh giá mô hình trên tập dữ liệu validation\n",
            "\t\t\tMSE:  0.1732979608817463\n",
            "\tBước lặp huấn luyện thứ:  4\n",
            "\t\tĐánh giá mô hình trên tập dữ liệu validation\n",
            "\t\t\tMSE:  0.11437671688754669\n",
            "\tBước lặp huấn luyện thứ:  5\n",
            "\t\tĐánh giá mô hình trên tập dữ liệu validation\n",
            "\t\t\tMSE:  0.08016355660648979\n",
            "\tBước lặp huấn luyện thứ:  6\n",
            "\t\tĐánh giá mô hình trên tập dữ liệu validation\n",
            "\t\t\tMSE:  0.020932247777911358\n",
            "\tBước lặp huấn luyện thứ:  7\n",
            "\t\tĐánh giá mô hình trên tập dữ liệu validation\n",
            "\t\t\tMSE:  0.06503157574039026\n",
            "\tBước lặp huấn luyện thứ:  8\n",
            "\t\tĐánh giá mô hình trên tập dữ liệu validation\n",
            "\t\t\tMSE:  0.03322813964126265\n",
            "\tBước lặp huấn luyện thứ:  9\n",
            "\t\tĐánh giá mô hình trên tập dữ liệu validation\n",
            "\t\t\tMSE:  0.0595635756156567\n",
            "\tBước lặp huấn luyện thứ:  10\n",
            "\t\tĐánh giá mô hình trên tập dữ liệu validation\n",
            "\t\t\tMSE:  0.02167983014939241\n",
            "ĐÁNH GIÁ HIỆU NĂNG CỦA MÔ HÌNH TRÊN TẬP DỮ LIỆU TEST\n",
            "\tMSE:  0.05389498034146796\n"
          ]
        }
      ]
    },
    {
      "cell_type": "markdown",
      "source": [
        "### Huấn luyện mô hình HQTT với 10-fold CV sử dụng Ridge\n"
      ],
      "metadata": {
        "id": "0GqnfoMCDL2M"
      }
    },
    {
      "cell_type": "code",
      "source": [
        "def readData(filePath: str,filename: str):\n",
        "  #Bước 1: Đọc dữ liệu\n",
        "  D = np.loadtxt(os.path.join('/content', 'ex1data2.txt'), delimiter=',')\n",
        "  #Bước 2: Điều chỉnh dữ liệu - do đây là mô hình HQTT nên chấp nhận scale cả vector y\n",
        "  scaler = MinMaxScaler()\n",
        "  scaler.fit(D)\n",
        "  D = scaler.transform(D)\n",
        "  #Bước 3: Phân chia train - test theo tỉ lệ 70% - 30%\n",
        "  X, y = D[:, :-1], D[:, -1]\n",
        "  return X, y\n",
        "\n",
        "def k_fold_10_ridge(kf, X_train, y_train, X, model, step, alpha):\n",
        "  for train2_index, val_index in kf.split(X = X_train,y = y_train):\n",
        "    step = step + 1\n",
        "    print('\\tBước lặp huấn luyện thứ: ', step)\n",
        "    w_opt = np.zeros((X.shape[1], 1))\n",
        "    X_train2, X_val = X_train[train2_index], X_train[val_index]\n",
        "    y_train2, y_val = y_train[train2_index], y_train[val_index]\n",
        "    model.fit(X_train2, y_train2)\n",
        "    print('\\t\\tĐánh giá mô hình trên tập dữ liệu validation')\n",
        "    y_hat = model.predict(X_val)\n",
        "    print('\\t\\t\\tMSE: ', mean_squared_error(y_val, y_hat))\n",
        "\n",
        "def main():\n",
        "  #Bước 1: Đọc dữ liệu\n",
        "  X, y = readData(\"/content\",\"ex1data2.txt\")\n",
        "  #Bước 2: Phân chia train - test theo tỉ lệ 70% - 30%\n",
        "  X_train, X_test, y_train, y_test = train_test_split(X, y, test_size=0.30, random_state=15)\n",
        "  #Bước 3: Xác định k-fold\n",
        "  kf = KFold(n_splits=10)\n",
        "  #Bước 4: Huấn luyện mô hình\n",
        "  print('Huấn luyện mô hình Ridge với k-fold')\n",
        "  model = Ridge()\n",
        "  step = 0\n",
        "  alpha = 1\n",
        "  k_fold_10_lasso(kf, X_train, y_train, X, model, step, alpha)\n",
        "  #Bước 5: Kiểm định mô hình với tập dữ liệu test\n",
        "  print('ĐÁNH GIÁ HIỆU NĂNG CỦA MÔ HÌNH TRÊN TẬP DỮ LIỆU TEST')\n",
        "  y_hat = model.predict(X_test)\n",
        "  print('\\tMSE: ', mean_squared_error(y_test, y_hat))\n",
        "\n",
        "if __name__ == \"__main__\":\n",
        "  main()"
      ],
      "metadata": {
        "colab": {
          "base_uri": "https://localhost:8080/"
        },
        "id": "wFUDcY1dANPx",
        "outputId": "2d290d24-b856-4156-d8ca-cb64b664decf"
      },
      "execution_count": 9,
      "outputs": [
        {
          "output_type": "stream",
          "name": "stdout",
          "text": [
            "Huấn luyện mô hình Ridge với k-fold\n",
            "\tBước lặp huấn luyện thứ:  1\n",
            "\t\tĐánh giá mô hình trên tập dữ liệu validation\n",
            "\t\t\tMSE:  0.007342095872437096\n",
            "\tBước lặp huấn luyện thứ:  2\n",
            "\t\tĐánh giá mô hình trên tập dữ liệu validation\n",
            "\t\t\tMSE:  0.014049333078351068\n",
            "\tBước lặp huấn luyện thứ:  3\n",
            "\t\tĐánh giá mô hình trên tập dữ liệu validation\n",
            "\t\t\tMSE:  0.04428852697107722\n",
            "\tBước lặp huấn luyện thứ:  4\n",
            "\t\tĐánh giá mô hình trên tập dữ liệu validation\n",
            "\t\t\tMSE:  0.05069037283758421\n",
            "\tBước lặp huấn luyện thứ:  5\n",
            "\t\tĐánh giá mô hình trên tập dữ liệu validation\n",
            "\t\t\tMSE:  0.028517646668885285\n",
            "\tBước lặp huấn luyện thứ:  6\n",
            "\t\tĐánh giá mô hình trên tập dữ liệu validation\n",
            "\t\t\tMSE:  0.03465955433033329\n",
            "\tBước lặp huấn luyện thứ:  7\n",
            "\t\tĐánh giá mô hình trên tập dữ liệu validation\n",
            "\t\t\tMSE:  0.022081137144973808\n",
            "\tBước lặp huấn luyện thứ:  8\n",
            "\t\tĐánh giá mô hình trên tập dữ liệu validation\n",
            "\t\t\tMSE:  0.014284963922507813\n",
            "\tBước lặp huấn luyện thứ:  9\n",
            "\t\tĐánh giá mô hình trên tập dữ liệu validation\n",
            "\t\t\tMSE:  0.0437355963026947\n",
            "\tBước lặp huấn luyện thứ:  10\n",
            "\t\tĐánh giá mô hình trên tập dữ liệu validation\n",
            "\t\t\tMSE:  0.0111475992970004\n",
            "ĐÁNH GIÁ HIỆU NĂNG CỦA MÔ HÌNH TRÊN TẬP DỮ LIỆU TEST\n",
            "\tMSE:  0.02099182133471009\n"
          ]
        }
      ]
    },
    {
      "cell_type": "code",
      "source": [],
      "metadata": {
        "id": "Bc6Bp-mlET7S"
      },
      "execution_count": null,
      "outputs": []
    }
  ]
}