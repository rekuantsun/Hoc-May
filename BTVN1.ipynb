{
  "nbformat": 4,
  "nbformat_minor": 0,
  "metadata": {
    "colab": {
      "provenance": [],
      "mount_file_id": "1fRigx_ep24K8mKCPAfPgD262Sl_8rU8d",
      "authorship_tag": "ABX9TyOJIFnitAtK6QlrYt/Sf97m",
      "include_colab_link": true
    },
    "kernelspec": {
      "name": "python3",
      "display_name": "Python 3"
    },
    "language_info": {
      "name": "python"
    }
  },
  "cells": [
    {
      "cell_type": "markdown",
      "metadata": {
        "id": "view-in-github",
        "colab_type": "text"
      },
      "source": [
        "<a href=\"https://colab.research.google.com/github/rekuantsun/Hoc-May/blob/main/BTVN1.ipynb\" target=\"_parent\"><img src=\"https://colab.research.google.com/assets/colab-badge.svg\" alt=\"Open In Colab\"/></a>"
      ]
    },
    {
      "cell_type": "code",
      "source": [
        "# Thư viện\n",
        "import numpy as np"
      ],
      "metadata": {
        "id": "H7D0uPymZdy9"
      },
      "execution_count": 2,
      "outputs": []
    },
    {
      "cell_type": "code",
      "execution_count": 3,
      "metadata": {
        "id": "aqViRY_jY7bp"
      },
      "outputs": [],
      "source": [
        "# Đại lượng vô hướng - tensor hạng 0\n",
        "x = 5\n",
        "y = -12\n",
        "z = 3.1417"
      ]
    },
    {
      "cell_type": "code",
      "source": [
        "# Đại lượng có hướng - vector - tensor hạng 1\n",
        "x = np.array([2, -1, 3, 6])\n",
        "\n",
        "# Kiểm tra số chiều\n",
        "print(x.ndim)\n",
        "\n",
        "# Kiểm tra kích thước\n",
        "print(x.shape)"
      ],
      "metadata": {
        "colab": {
          "base_uri": "https://localhost:8080/"
        },
        "id": "pkrQKyhAZP07",
        "outputId": "933dc18a-c44e-4a68-b53f-b73feda10b79"
      },
      "execution_count": 4,
      "outputs": [
        {
          "output_type": "stream",
          "name": "stdout",
          "text": [
            "1\n",
            "(4,)\n"
          ]
        }
      ]
    },
    {
      "cell_type": "code",
      "source": [
        "# Ma trận - tensor hạng 2\n",
        "X = np.array([1, 2, 3, 4, 5, 6]).reshape((2,3))\n",
        "print(X)"
      ],
      "metadata": {
        "colab": {
          "base_uri": "https://localhost:8080/"
        },
        "id": "4T03WxBcZvI1",
        "outputId": "649ac722-6a05-4377-9ad8-470612cff3ee"
      },
      "execution_count": 5,
      "outputs": [
        {
          "output_type": "stream",
          "name": "stdout",
          "text": [
            "[[1 2 3]\n",
            " [4 5 6]]\n"
          ]
        }
      ]
    },
    {
      "cell_type": "code",
      "source": [
        "# Tensor hạng 3\n",
        "X = np.array([1,2,3,4,5,6,7,8,9,10,11,12]).reshape((3,2,2))\n",
        "print(X)\n",
        "\n",
        "# Kiểm tra số chiều và kích thước \n",
        "print(X.ndim)\n",
        "print(X.shape)"
      ],
      "metadata": {
        "colab": {
          "base_uri": "https://localhost:8080/"
        },
        "id": "COPKUV_vaB5P",
        "outputId": "006fbb80-bf05-4a77-f797-224b7ef8fbbf"
      },
      "execution_count": 7,
      "outputs": [
        {
          "output_type": "stream",
          "name": "stdout",
          "text": [
            "[[[ 1  2]\n",
            "  [ 3  4]]\n",
            "\n",
            " [[ 5  6]\n",
            "  [ 7  8]]\n",
            "\n",
            " [[ 9 10]\n",
            "  [11 12]]]\n",
            "3\n",
            "(3, 2, 2)\n"
          ]
        }
      ]
    },
    {
      "cell_type": "code",
      "source": [
        "from matplotlib import pyplot as plt\n",
        "img = plt.imread('/content/drive/MyDrive/Classroom/Học máy 1 Phần cơ sở/pexels-宗轩-李-10099637.jpg')\n",
        "print(img.ndim)\n",
        "print(img.shape)"
      ],
      "metadata": {
        "colab": {
          "base_uri": "https://localhost:8080/"
        },
        "id": "fYR7wiqUaqk_",
        "outputId": "5ac40f44-44ae-4e53-b363-d00cb33e6b9a"
      },
      "execution_count": 9,
      "outputs": [
        {
          "output_type": "stream",
          "name": "stdout",
          "text": [
            "3\n",
            "(5184, 3456, 3)\n"
          ]
        }
      ]
    },
    {
      "cell_type": "code",
      "source": [
        "# Câu hỏi mở rộng: Theo bạn biểu diễn (hay mô tả) Toán học của đoạn phim (video) là gì? \n"
      ],
      "metadata": {
        "id": "1ACuMwhJcbxG"
      },
      "execution_count": null,
      "outputs": []
    }
  ]
}