{
  "nbformat": 4,
  "nbformat_minor": 0,
  "metadata": {
    "colab": {
      "provenance": [],
      "include_colab_link": true
    },
    "kernelspec": {
      "name": "python3",
      "display_name": "Python 3"
    },
    "language_info": {
      "name": "python"
    }
  },
  "cells": [
    {
      "cell_type": "markdown",
      "metadata": {
        "id": "view-in-github",
        "colab_type": "text"
      },
      "source": [
        "<a href=\"https://colab.research.google.com/github/rekuantsun/Hoc-May/blob/main/BTKN_04_2_k_fold_CV_v%E1%BB%9Bi_m%C3%B4_h%C3%ACnh_ph%C3%A2n_l%E1%BB%9Bp_(H%E1%BB%93i_quy_Logistic).ipynb\" target=\"_parent\"><img src=\"https://colab.research.google.com/assets/colab-badge.svg\" alt=\"Open In Colab\"/></a>"
      ]
    },
    {
      "cell_type": "code",
      "source": [
        "import os\n",
        "import numpy as np\n",
        "from sklearn.model_selection import train_test_split\n",
        "from sklearn.model_selection import ShuffleSplit\n",
        "from sklearn.model_selection import cross_val_predict\n",
        "from sklearn.model_selection import cross_val_score\n",
        "from sklearn.preprocessing import MinMaxScaler\n",
        "from sklearn.linear_model import LogisticRegression\n",
        "from sklearn.model_selection import GridSearchCV\n",
        "from sklearn.metrics import accuracy_score\n",
        "from sklearn.linear_model import LogisticRegressionCV"
      ],
      "metadata": {
        "id": "JaI3VoW2qv3M"
      },
      "execution_count": null,
      "outputs": []
    },
    {
      "cell_type": "code",
      "source": [
        "#Bước 1 đọc dữ liệu \n",
        "D = np.loadtxt(os.path.join('/content', 'ex2data2.txt'), delimiter=',')\n",
        "X, y = D[:, :-1], D[:, -1]"
      ],
      "metadata": {
        "id": "zep3evInrDtf"
      },
      "execution_count": null,
      "outputs": []
    },
    {
      "cell_type": "code",
      "source": [
        "#Bước 2: Điều chỉnh dữ liệu - do đây là mô hình HQTT nên chấp nhận scale cả vector y\n",
        "scaler = MinMaxScaler()\n",
        "scaler.fit(X)\n",
        "X = scaler.transform(X)"
      ],
      "metadata": {
        "id": "7PYV2Wx2ssb5"
      },
      "execution_count": null,
      "outputs": []
    },
    {
      "cell_type": "code",
      "source": [
        "#Bước 3: Phân chia train - test theo tỉ lệ 70% - 30%\n",
        "X_train, X_test, y_train, y_test = train_test_split(X, y, test_size=0.30, random_state=15)\n",
        "\n",
        "#Số lượng k-fold được xác định tùy thuộc vào số lượng y_train\n",
        "unique, counts = np.unique(y_train, return_counts=True)\n",
        "result = dict(zip(unique, counts))\n",
        "print(result)"
      ],
      "metadata": {
        "colab": {
          "base_uri": "https://localhost:8080/"
        },
        "id": "XlCm3h00tDZ6",
        "outputId": "07261d74-b4a1-440a-fc44-0afcf9ea4bbd"
      },
      "execution_count": null,
      "outputs": [
        {
          "output_type": "stream",
          "name": "stdout",
          "text": [
            "{0.0: 41, 1.0: 41}\n"
          ]
        }
      ]
    },
    {
      "cell_type": "markdown",
      "source": [
        "Bài 1:\n",
        "- Đọc dữ liệu (ex2data2.txt);\n",
        "- Chuẩn hóa dữ liệu (lưu ý: chỉ chuẩn\n",
        "hóa X);\n",
        "- Phân chia train – test theo tỉ lệ 70% -\n",
        "30%;\n",
        "- Xây dựng mô hình hồi quy Logistic\n",
        "sử dụng sklearn với thuật toán tối ưu\n",
        "là liblinear; số bước lăp là 1500;\n",
        "thiết lập chế độ nhãn lớp là auto;\n",
        "- Huấn luyện mô hình sử dụng\n",
        "\n",
        "cross_val_score() với lựa chọn k-\n",
        "fold cv là 10, đánh giá mô hình bằng\n",
        "\n",
        "chỉ số accuracy và áp dụng với tập\n",
        "dữ liệu (X_train, y_train);\n",
        "- In kết quả huấn luyện ra màn hình."
      ],
      "metadata": {
        "id": "csUOzkzunqfy"
      }
    },
    {
      "cell_type": "code",
      "source": [
        "#Bước 4: Khởi tạo mô hình hồi quy logistic, với thuật toán tối ưu là liblinear\n",
        "#Bước lặp 1500; multi_class = 'auto' để tự phát hiện nhãn lớp nhị phân hay đa nhãn lớp\n",
        "model = LogisticRegression(solver='liblinear', max_iter=1500, multi_class='auto')\n",
        "\n",
        "#Bước 5: Huấn luyện mô hình cv = 10 và độ đo là scoring='accuracy'\n",
        "scores = cross_val_score(model, X_train, y_train, cv=10, scoring='accuracy')\n",
        "\n",
        "#Bước 6: Thông báo kết quả huấn luyện ra màn hình\n",
        "print('Kết quả huấn luyên 10-fold cv')\n",
        "print('\\t', scores)"
      ],
      "metadata": {
        "colab": {
          "base_uri": "https://localhost:8080/"
        },
        "id": "Yjm_ITCOn8FO",
        "outputId": "30c03c19-8116-4bcc-b93c-6b511c3018f8"
      },
      "execution_count": null,
      "outputs": [
        {
          "output_type": "stream",
          "name": "stdout",
          "text": [
            "Kết quả huấn luyên 10-fold cv\n",
            "\t [0.66666667 0.55555556 0.125      0.25       0.625      0.625\n",
            " 0.375      0.625      0.75       0.75      ]\n"
          ]
        }
      ]
    },
    {
      "cell_type": "markdown",
      "source": [
        "Bài 2:\n",
        "- Đọc dữ liệu (ex2data2.txt);\n",
        "- Chuẩn hóa dữ liệu (lưu ý: chỉ chuẩn\n",
        "hóa X);\n",
        "- Phân chia train – test theo tỉ lệ 90% -\n",
        "10%;\n",
        "- Xây dựng mô hình hồi quy Logistic\n",
        "sử dụng sklearn với thuật toán tối ưu\n",
        "là liblinear; số bước lăp là 1500;\n",
        "thiết lập chế độ nhãn lớp là auto;\n",
        "- Thiết lập 10-fold cv bằng\n",
        "ShuffleSplit với tùy chọn n_splits =\n",
        "10, test_size = 20%;\n",
        "- Huấn luyện mô hình sử dụng\n",
        "cross_val_score() với cv được dùng\n",
        "là ShuffleSplit nêu trên, đánh giá mô\n",
        "hình bằng chỉ số accuracy và áp\n",
        "dụng với tập dữ liệu (X_train,\n",
        "y_train);\n",
        "- In kết quả huấn luyện ra màn hình."
      ],
      "metadata": {
        "id": "VzGypeKvqwQM"
      }
    },
    {
      "cell_type": "code",
      "source": [
        "#Bước 4: Khởi tạo mô hình hồi quy logistic, với thuật toán tối ưu là liblinear\n",
        "#Bước lặp 1500; multi_class = 'auto' để tự phát hiện nhãn lớp nhị phân hay đa nhãn lớp\n",
        "model = LogisticRegression(solver='liblinear', max_iter=1500, multi_class='auto')\n",
        "\n",
        "#Bước 5: Đặc tả 10-fold cv với k = 10, validation size = 20%\n",
        "cv = ShuffleSplit(n_splits=10, test_size=0.20, random_state=15)\n",
        "\n",
        "#Bước 6: Huấn luyện mô hình cv = 10 và độ đo là scoring='accuracy'\n",
        "scores = cross_val_score(model, X_train, y_train, cv=cv, scoring='accuracy')\n",
        "\n",
        "#Bước 7: Thông báo kết quả huấn luyện ra màn hình\n",
        "print('Kết quả huấn luyên 10-fold cv')\n",
        "print('\\t', scores)"
      ],
      "metadata": {
        "colab": {
          "base_uri": "https://localhost:8080/"
        },
        "id": "-6BbMqaUoB92",
        "outputId": "6e5f4b83-bac1-4826-a590-f4d61361a3f7"
      },
      "execution_count": null,
      "outputs": [
        {
          "output_type": "stream",
          "name": "stdout",
          "text": [
            "Kết quả huấn luyên 10-fold cv\n",
            "\t [0.41176471 0.29411765 0.52941176 0.47058824 0.47058824 0.52941176\n",
            " 0.47058824 0.52941176 0.41176471 0.35294118]\n"
          ]
        }
      ]
    },
    {
      "cell_type": "markdown",
      "source": [
        "Bài 3:\n",
        "- Đọc dữ liệu (ex2data2.txt);\n",
        "- Chuẩn hóa dữ liệu (lưu ý: chỉ chuẩn\n",
        "hóa X);\n",
        "- Phân chia train – test theo tỉ lệ 70% -\n",
        "30%;\n",
        "- Xây dựng mô hình hồi quy Logistic\n",
        "sử dụng sklearn với thuật toán tối ưu\n",
        "là liblinear; số bước lăp là 1500;\n",
        "thiết lập chế độ nhãn lớp là auto;\n",
        "- Huấn luyện mô hình 10-fold cv với\n",
        "cross_val_predict() áp dụng với tập\n",
        "dữ liệu (X_train, y_train);\n",
        "- In kết quả dự đoán (y_hat) ra màn\n",
        "hình."
      ],
      "metadata": {
        "id": "JfgrbnaJrNw2"
      }
    },
    {
      "cell_type": "code",
      "source": [
        "#Bước 4: Khởi tạo mô hình hồi quy logistic, với thuật toán tối ưu là liblinear\n",
        "#Bước lặp 1500; multi_class = 'auto' để tự phát hiện nhãn lớp nhị phân hay đa nhãn lớp\n",
        "model = LogisticRegression(solver='liblinear', max_iter=1500, multi_class='auto')\n",
        "\n",
        "#Bước 5: Huấn luyện mô hình cv = 10 và độ đo là scoring='accuracy' và lấy kết quả dự đoán về\n",
        "y_hat = cross_val_predict(model, X_train, y_train, cv=10)\n",
        "\n",
        "#Bước 6: Thông báo kết quả huấn luyện ra màn hình\n",
        "print('Kết quả huấn luyên 10-fold cv')\n",
        "print('\\t', y_hat)"
      ],
      "metadata": {
        "colab": {
          "base_uri": "https://localhost:8080/"
        },
        "id": "4dqqmn8MrNf6",
        "outputId": "d0cbd508-f5e8-44ab-9480-7a2a33613767"
      },
      "execution_count": null,
      "outputs": [
        {
          "output_type": "stream",
          "name": "stdout",
          "text": [
            "Kết quả huấn luyên 10-fold cv\n",
            "\t [0. 0. 1. 1. 1. 1. 0. 0. 0. 1. 1. 0. 1. 1. 1. 1. 1. 0. 0. 1. 1. 1. 1. 1.\n",
            " 0. 1. 1. 0. 1. 0. 0. 0. 0. 0. 1. 1. 1. 0. 1. 0. 1. 0. 0. 1. 0. 1. 1. 1.\n",
            " 0. 1. 1. 1. 1. 1. 0. 0. 1. 1. 0. 0. 1. 0. 0. 0. 1. 0. 0. 1. 1. 1. 1. 1.\n",
            " 1. 1. 0. 0. 0. 1. 1. 1. 0. 0.]\n"
          ]
        }
      ]
    },
    {
      "cell_type": "markdown",
      "source": [
        "Bài 4: Sử dụng GridSearchCV để tìm bộ\n",
        "tham số tối ưu cho mô hình. Với hồi quy\n",
        "Logistic, chúng ta tìm giá trị tối ưu cho tham\n",
        "số C áp dụng trong quá trình điều tiết\n",
        "(regularization) tránh hiện tượng\n",
        "overfitting.\n",
        "- Đọc dữ liệu (ex2data2.txt);\n",
        "- Chuẩn hóa dữ liệu (lưu ý: chỉ chuẩn\n",
        "hóa X);\n",
        "- Phân chia train – test theo tỉ lệ 70% -\n",
        "30%;\n",
        "- Xây dựng mô hình hồi quy Logistic\n",
        "sử dụng sklearn với thuật toán tối ưu\n",
        "là liblinear; số bước lăp là 1500;\n",
        "thiết lập chế độ nhãn lớp là auto;\n",
        "- Tạo bộ tham số C có giá trị 1, 10, 20,\n",
        "50;\n",
        "- Tạo GridSearchCV với mô hình hồi\n",
        "quy Logistic, cv = 10 và bộ tham số\n",
        "ở trên;\n",
        "- Áp dụng với (X_train, y_train)\n",
        "- In ra màn hình giá trị C tối ưu\n",
        "(best_params_) của mô hình\n",
        "GridSearchCV ở trên;\n",
        "- Sử dụng mô hình GridSearchCV để\n",
        "dự đoán y_hat cho tập X_test\n",
        "- Đánh giá hiệu năng của mô hình\n",
        "bằng accuracy_score đối với tập\n",
        "(y_hat, y_test)."
      ],
      "metadata": {
        "id": "i213Lrz_rma6"
      }
    },
    {
      "cell_type": "code",
      "source": [
        "#Bước 4: Khởi tạo mô hình hồi quy logistic, với thuật toán tối ưu là liblinear\n",
        "#Bước lặp 1500; multi_class = 'auto' để tự phát hiện nhãn lớp nhị phân hay đa nhãn lớp\n",
        "model = LogisticRegression(solver='liblinear', max_iter=1500, multi_class='auto')\n",
        "\n",
        "#Bước 5: Đặc tả 10-fold cv với k = 10\n",
        "parameters = {'C':[1, 10, 20, 50]}\n",
        "cv = GridSearchCV(model, parameters, cv=10)\n",
        "\n",
        "#Bước 6: Huấn luyện mô hình và lấy kết quả tối ưu\n",
        "cv.fit(X_train, y_train)\n",
        "\n",
        "#Bước 7: Thông báo kết quả tối ưu\n",
        "print('Kết quả huấn luyên 10-fold cv')\n",
        "print('\\t', cv.best_params_)\n",
        "\n",
        "#Bước 8: Tạo mô hình LogisticRegression với best param\n",
        "#model.set_params(**cv.best_params_)\n",
        "#model.fit(X_train, y_train)\n",
        "y_hat = cv.predict(X_test)\n",
        "\n",
        "#Bước 9 đánh giá hiệu năng mô hình\n",
        "print('Hiệu năng mô hình acc: ', accuracy_score(y_hat, y_test))"
      ],
      "metadata": {
        "colab": {
          "base_uri": "https://localhost:8080/"
        },
        "id": "3bRZ_Zq2rp24",
        "outputId": "436aaf11-a2ac-4224-9276-e0db58373c12"
      },
      "execution_count": null,
      "outputs": [
        {
          "output_type": "stream",
          "name": "stdout",
          "text": [
            "Kết quả huấn luyên 10-fold cv\n",
            "\t {'C': 1}\n",
            "Hiệu năng mô hình acc:  0.5\n"
          ]
        }
      ]
    },
    {
      "cell_type": "markdown",
      "source": [
        "Bài 5: Sử dụng LogisticRegressionCV để\n",
        "đơn giản hóa quá trình huấn luyện mô hình\n",
        "với k-fold cross-validation.\n",
        "- Đọc dữ liệu (ex2data2.txt);\n",
        "- Chuẩn hóa dữ liệu (lưu ý: chỉ chuẩn\n",
        "hóa X);\n",
        "- Phân chia train – test theo tỉ lệ 70% -\n",
        "30%;\n",
        "- Khởi tạo mô hình\n",
        "LogisticRegressionCV với tùy chọn\n",
        "cv=10, random_state = <số nguyên\n",
        "tùy ý bạn> và áp dụng với tập\n",
        "(X_train, y_train);\n",
        "- Sử dụng mô hình ở trên để dự đoán\n",
        "y_hat đối với tập X_test;\n",
        "- Đánh giá hiệu năng của mô hình\n",
        "bằng accuracy_score đối với tập\n",
        "(y_hat, y_test)."
      ],
      "metadata": {
        "id": "PF3U5L5Nr3qt"
      }
    },
    {
      "cell_type": "code",
      "source": [
        "#Bước 4 Tạo mô hình và huấn luyen 10-foldCV\n",
        "model = LogisticRegressionCV(cv=10, random_state=15).fit(X_train, y_train)\n",
        "\n",
        "#Bước 5: Dự đoán và đánh giá hiệu năng\n",
        "y_hat = model.predict(X_test)\n",
        "\n",
        "#Bước 6 đánh giá hiệu năng mô hình\n",
        "print('Hiệu năng mô hình acc: ', accuracy_score(y_hat, y_test))"
      ],
      "metadata": {
        "colab": {
          "base_uri": "https://localhost:8080/"
        },
        "id": "T0fMAOHhsExX",
        "outputId": "67236b48-1df0-4f37-9c62-12807d11dd68"
      },
      "execution_count": null,
      "outputs": [
        {
          "output_type": "stream",
          "name": "stdout",
          "text": [
            "Hiệu năng mô hình acc:  0.5\n"
          ]
        }
      ]
    }
  ]
}