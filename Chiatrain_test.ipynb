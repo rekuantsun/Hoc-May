{
  "nbformat": 4,
  "nbformat_minor": 0,
  "metadata": {
    "colab": {
      "provenance": [],
      "authorship_tag": "ABX9TyMri+xbDhy2T6jVdpRhVtNi",
      "include_colab_link": true
    },
    "kernelspec": {
      "name": "python3",
      "display_name": "Python 3"
    },
    "language_info": {
      "name": "python"
    }
  },
  "cells": [
    {
      "cell_type": "markdown",
      "metadata": {
        "id": "view-in-github",
        "colab_type": "text"
      },
      "source": [
        "<a href=\"https://colab.research.google.com/github/rekuantsun/Hoc-May/blob/main/Chiatrain_test.ipynb\" target=\"_parent\"><img src=\"https://colab.research.google.com/assets/colab-badge.svg\" alt=\"Open In Colab\"/></a>"
      ]
    },
    {
      "cell_type": "markdown",
      "source": [
        "**Import libraries**"
      ],
      "metadata": {
        "id": "g0KdXZgoumTs"
      }
    },
    {
      "cell_type": "code",
      "execution_count": 16,
      "metadata": {
        "id": "Fd7qA5LBe8aS"
      },
      "outputs": [],
      "source": [
        "import os\n",
        "import numpy as np\n",
        "from sklearn.model_selection import train_test_split"
      ]
    },
    {
      "cell_type": "markdown",
      "source": [
        "Chia tập ex1data1 train - test theo tỷ lệ 70 - 30\n"
      ],
      "metadata": {
        "id": "DOogKai4uyFL"
      }
    },
    {
      "cell_type": "code",
      "source": [
        "folder = \"/content\"\n",
        "D = np.loadtxt(os.path.join(folder, \"ex1data1.txt\"), delimiter=',')\n",
        "X, y = D[:,:-1], D[:,-1]\n",
        "X_train1, X_test1, y_train1, y_test1 = train_test_split(X, y, test_size=0.30, random_state=15)"
      ],
      "metadata": {
        "id": "-hr8aLEBuyls"
      },
      "execution_count": 21,
      "outputs": []
    },
    {
      "cell_type": "code",
      "source": [
        "X_train1\n",
        "\n",
        "X_test1\n",
        "\n",
        "y_train1\n",
        "\n",
        "y_test1"
      ],
      "metadata": {
        "colab": {
          "base_uri": "https://localhost:8080/"
        },
        "id": "6Fl9xUtkiucx",
        "outputId": "7567e6ce-95fc-44ea-cf1f-c1ef7cdf561a"
      },
      "execution_count": 22,
      "outputs": [
        {
          "output_type": "execute_result",
          "data": {
            "text/plain": [
              "array([ 6.7526 ,  2.0576 ,  4.6042 ,  4.2959 , 15.505  , 20.992  ,\n",
              "       -1.4211 ,  0.20421,  0.71618,  2.8214 ,  1.0463 , 21.767  ,\n",
              "        4.1164 ,  6.5987 ,  5.4141 ,  1.4233 ,  3.8166 , 22.638  ,\n",
              "        0.14454,  0.92695, 11.854  ,  3.1386 , 17.054  , 12.054  ,\n",
              "        6.6799 ,  1.9869 , 10.117  ,  7.2258 ,  5.3048 , -1.22   ])"
            ]
          },
          "metadata": {},
          "execution_count": 22
        }
      ]
    },
    {
      "cell_type": "markdown",
      "source": [
        "Chia tập ex1data2 train - test theo tỷ lệ 70 - 30\n"
      ],
      "metadata": {
        "id": "ixwUCkYtvi26"
      }
    },
    {
      "cell_type": "code",
      "source": [
        "folder = \"/content\"\n",
        "D = np.loadtxt(os.path.join(folder, \"ex1data2.txt\"), delimiter=',')\n",
        "X, y = D[:,:-1], D[:,-1]\n",
        "X_train2, X_test2, y_train2, y_test2 = train_test_split(X, y, test_size=0.30, random_state=15)"
      ],
      "metadata": {
        "id": "v-7Bpqfgvlq8"
      },
      "execution_count": 25,
      "outputs": []
    },
    {
      "cell_type": "code",
      "source": [
        "X_train2 \n",
        "\n",
        "X_test2\n",
        "\n",
        "y_train2\n",
        "\n",
        "y_test2"
      ],
      "metadata": {
        "colab": {
          "base_uri": "https://localhost:8080/"
        },
        "id": "dsQKkBjIvuBL",
        "outputId": "51970b94-ba2e-4561-f544-22e40198c0f3"
      },
      "execution_count": 26,
      "outputs": [
        {
          "output_type": "execute_result",
          "data": {
            "text/plain": [
              "array([249900., 573900., 232000., 349900., 549000., 314000., 579900.,\n",
              "       464500., 259900., 345000., 242900., 329900., 239500., 252900.,\n",
              "       299900.])"
            ]
          },
          "metadata": {},
          "execution_count": 26
        }
      ]
    },
    {
      "cell_type": "markdown",
      "source": [
        "# 1) Hãy liệt kê tất cả tham số của hàm train_test_split() và ý nghĩa của chúng."
      ],
      "metadata": {
        "id": "GoTKfc1ukxnI"
      }
    },
    {
      "cell_type": "markdown",
      "source": [
        "Thông số:\n",
        "\n",
        "**arrays: chuỗi các chỉ mục có cùng độ dài/hình dạng[0]**\n",
        "\n",
        "Đầu vào được phép là danh sách, mảng gọn gàng, ma trận scipy-thưa thớt hoặc khung dữ liệu gấu trúc.\n",
        "\n",
        "**test_size: float hoặc int, default=None**\n",
        "\n",
        "Nếu là float, giá trị này phải nằm trong khoảng từ 0,0 đến 1,0 và biểu thị tỷ lệ của tập dữ liệu được đưa vào phân tách thử nghiệm. Nếu int, đại diện cho số lượng mẫu thử nghiệm tuyệt đối. Nếu Không, giá trị được đặt thành phần bù của kích thước đoàn tàu. Nếu train_size cũng là Không, nó sẽ được đặt thành 0,25.\n",
        "\n",
        "**train_size: float hoặc int, default=None**\n",
        "\n",
        "Nếu thả nổi, phải nằm trong khoảng từ 0,0 đến 1,0 và biểu thị tỷ lệ của tập dữ liệu sẽ bao gồm trong quá trình phân tách tàu. Nếu int, đại diện cho số lượng mẫu tàu tuyệt đối. Nếu Không, giá trị sẽ tự động được đặt thành phần bù của kích thước thử nghiệm.\n",
        "\n",
        "**Random_state: int, RandomState instance hoặc Không, default=None**\n",
        "\n",
        "Kiểm soát việc xáo trộn được áp dụng cho dữ liệu trước khi áp dụng phân tách. Truyền một int cho đầu ra có thể lặp lại qua nhiều lệnh gọi hàm. \n",
        "\n",
        "**shuffle: bool, mặc định=True**\n",
        "\n",
        "Có xáo trộn dữ liệu trước khi tách hay không. Nếu shuffle=False thì phân tầng phải là Không có.\n",
        "\n",
        "**stratify: dạng mảng, default=None**\n",
        "\n",
        "Nếu không phải là Không, dữ liệu được phân chia theo kiểu phân tầng, sử dụng dữ liệu này làm nhãn lớp. Đọc thêm trong Hướng dẫn sử dụng."
      ],
      "metadata": {
        "id": "F8T7XjAGlQIn"
      }
    },
    {
      "cell_type": "markdown",
      "source": [
        "# 2) Tại sao khi thực hiện chia train – test, nên lựa chọn tham số shuffle = True? (lưu ý đây là giá trị mặc định)"
      ],
      "metadata": {
        "id": "06b2GJkjqiTs"
      }
    },
    {
      "cell_type": "markdown",
      "source": [
        "Tham số **shuffle** là cần thiết để ngăn việc gán không ngẫu nhiên cho tập huấn luyện và kiểm tra. Với shuffle = Truebạn tách dữ liệu một cách ngẫu nhiên. Ví dụ: giả sử bạn có dữ liệu phân loại nhị phân cân bằng và dữ liệu được sắp xếp theo nhãn. Nếu bạn chia nó theo tỷ lệ 80:20 để huấn luyện và kiểm tra, thì dữ liệu kiểm tra của bạn sẽ chỉ chứa các nhãn từ một lớp. Xáo trộn ngẫu nhiên ngăn chặn điều này."
      ],
      "metadata": {
        "id": "XLrxwKxzuKns"
      }
    },
    {
      "cell_type": "code",
      "source": [],
      "metadata": {
        "id": "UZjlWisqqi-M"
      },
      "execution_count": null,
      "outputs": []
    }
  ]
}