{
  "nbformat": 4,
  "nbformat_minor": 0,
  "metadata": {
    "colab": {
      "provenance": [],
      "authorship_tag": "ABX9TyMRPyrRtYXfX40sMVytRCpV",
      "include_colab_link": true
    },
    "kernelspec": {
      "name": "python3",
      "display_name": "Python 3"
    },
    "language_info": {
      "name": "python"
    }
  },
  "cells": [
    {
      "cell_type": "markdown",
      "metadata": {
        "id": "view-in-github",
        "colab_type": "text"
      },
      "source": [
        "<a href=\"https://colab.research.google.com/github/rekuantsun/Hoc-May/blob/main/ktgiuaki_motavaxaydungmohinhphanlop.ipynb\" target=\"_parent\"><img src=\"https://colab.research.google.com/assets/colab-badge.svg\" alt=\"Open In Colab\"/></a>"
      ]
    },
    {
      "cell_type": "markdown",
      "source": [
        "# **MÔ TẢ TẬP DỮ LIỆU**"
      ],
      "metadata": {
        "id": "vU6l9t-C3vvP"
      }
    },
    {
      "cell_type": "markdown",
      "source": [
        "#### Tập dữ liệu Breast Cancer Wisconsin\n"
      ],
      "metadata": {
        "id": "JKuUjkUt3-BB"
      }
    },
    {
      "cell_type": "markdown",
      "source": [
        "Bộ dữ liệu BCW chứa 699 mẫu bệnh phẩm được lấy từ các tế bào ung thư vú của bệnh nhân\n",
        "\n",
        "Có 11 thuộc tính cho mỗi quan sát tương ứng với miền giá trị của nó\n",
        "\n",
        "1 Sample code number (ID - Các con số dùng để định danh)\n",
        "\n",
        "2 Clump Thickness (1-10) (Tức là giá trị của nó là số nguyên nằm từ 1 đến 10)\n",
        "\n",
        "3 Uniformity of Cell Size (1-10)\n",
        "\n",
        "4 Uniformity of Cell Shape (1-10)\n",
        "\n",
        "5 Marginal Adhesion (1-10)\n",
        "\n",
        "6 Single Epithelial Cell Size (1-10)\n",
        "\n",
        "7 Bare Nuclei (1-10)\n",
        "\n",
        "8 Bland Chromatin (1-10)\n",
        "\n",
        "9 Normal Nucleoli (1-10)\n",
        "\n",
        "10 Mitoses (1-10)\n",
        "\n",
        "11 Class (2- cho bệnh lành tính và 4 - cho bệnh ác tính) (Đây chính là biến nhãn lớp)\n",
        "\n",
        "Lưu ý: Có 16 giá trị missing (giá trị bị thiếu)\n",
        "Biến Class thể hiện chẩn đoán xem khối u lành tính (65,52% trường hợp), ác tính (34,48% trường hợp)\n"
      ],
      "metadata": {
        "id": "WfKpVdra4Jnv"
      }
    },
    {
      "cell_type": "markdown",
      "source": [
        "#### Tập dữ liệu Wine "
      ],
      "metadata": {
        "id": "7VidtMZU4a2q"
      }
    },
    {
      "cell_type": "markdown",
      "source": [
        "Dữ liệu về 3 loại rượu (Barbera, Barolo và Grignolino) ở vùng Piedmont, Ý:\n",
        "Rượu Barbera được làm từ nho Nebbiolo\n",
        "Hai loại rượu còn lại được làm từ loại nho có cùng tên với chúng\n",
        "\n",
        "Có 14 biến (1 biến phân loại và 13 biến \n",
        "feature):\n",
        "\n",
        "1 class (biến phân loại - biến nhãn lớp)\n",
        "\n",
        "2 Alcohol\n",
        "\n",
        "3 Malic acid\n",
        "\n",
        "4 Ash\n",
        "\n",
        "5 Alcalinity of ash\n",
        "\n",
        "6 Magnesium\n",
        "\n",
        "7 Flavonoids\n",
        "\n",
        "8 Nonflavanoid phenols\n",
        "\n",
        "9 Proanthocyanins\n",
        "\n",
        "10 Color intensity\n",
        "\n",
        "11 Hue\n",
        "\n",
        "12 OD280/OD315 of diluted wines\n",
        "\n",
        "13 Proline\n",
        "\n",
        "Biến class có 3 nhãn lớp là 1,2 và 3. Trong đó nhãn lớp 1 có 59 quan sát, nhãn lớp 2 có 71 quan sát và nhãn lớp 3 có 48 quan sát.  (Mỗi quan sát chính là một dòng)\n",
        "\n",
        "Ngoài biến class (cột đầu tiên), các biến còn lại đều là biến liên tục và có thể nằm ở các miền giá trị khác nhau\n"
      ],
      "metadata": {
        "id": "SaRb2TPb4fEw"
      }
    },
    {
      "cell_type": "markdown",
      "source": [
        "# **LogisticRegression**"
      ],
      "metadata": {
        "id": "i73UNC-vXLID"
      }
    },
    {
      "cell_type": "markdown",
      "source": [
        "## **Khởi tạo và huấn luyện mô hình**"
      ],
      "metadata": {
        "id": "Bg5VfSrIArJz"
      }
    },
    {
      "cell_type": "markdown",
      "source": [
        "### Thư viện"
      ],
      "metadata": {
        "id": "MZ8gJIrLwJPv"
      }
    },
    {
      "cell_type": "code",
      "source": [
        "import numpy as np\n",
        "import pandas as pd\n",
        "import os\n",
        "from math import sqrt\n",
        "from sklearn.model_selection import train_test_split\n",
        "from sklearn.model_selection import KFold\n",
        "from sklearn.metrics import mean_squared_error\n",
        "from sklearn.preprocessing import MinMaxScaler\n",
        "from sklearn.linear_model import LinearRegression\n",
        "from sklearn.neighbors import KNeighborsRegressor\n",
        "from sklearn.model_selection import GridSearchCV\n",
        "from sklearn.datasets import make_classification\n",
        "from sklearn.linear_model import Lasso\n",
        "from sklearn.linear_model import Ridge\n",
        "from sklearn.naive_bayes import GaussianNB\n",
        "from sklearn.metrics import accuracy_score\n",
        "from sklearn.model_selection import cross_val_score"
      ],
      "metadata": {
        "id": "c-c0Y6X5WvnT"
      },
      "execution_count": 5,
      "outputs": []
    },
    {
      "cell_type": "markdown",
      "source": [
        "### Breast cancer data"
      ],
      "metadata": {
        "id": "GDIqoL5-BNtE"
      }
    },
    {
      "cell_type": "markdown",
      "source": [
        "#### *LogisticRegression for Breast cancer data*"
      ],
      "metadata": {
        "id": "ha2zwn8eXfh4"
      }
    },
    {
      "cell_type": "code",
      "execution_count": 3,
      "metadata": {
        "id": "Wkr_P3bhkJnQ",
        "colab": {
          "base_uri": "https://localhost:8080/"
        },
        "outputId": "a60c5029-dbda-4ee4-9fe1-93df4a5f2c35"
      },
      "outputs": [
        {
          "output_type": "stream",
          "name": "stdout",
          "text": [
            "X shape:  (698, 10)\n",
            "y shape:  (698,)\n",
            "{0.0: 457, 1.0: 241}\n",
            "Huấn luyện mô hình LinearRegression với k-fold\n",
            "\tBước lặp huấn luyện thứ:  1\n",
            "\t\tĐánh giá mô hình trên tập dữ liệu validation\n",
            "\t\t\tMSE:  0.03282312022071349\n",
            "\tBước lặp huấn luyện thứ:  2\n",
            "\t\tĐánh giá mô hình trên tập dữ liệu validation\n",
            "\t\t\tMSE:  0.029920383723738127\n",
            "\tBước lặp huấn luyện thứ:  3\n",
            "\t\tĐánh giá mô hình trên tập dữ liệu validation\n",
            "\t\t\tMSE:  0.040225406778439526\n",
            "\tBước lặp huấn luyện thứ:  4\n",
            "\t\tĐánh giá mô hình trên tập dữ liệu validation\n",
            "\t\t\tMSE:  0.0310521410183501\n",
            "\tBước lặp huấn luyện thứ:  5\n",
            "\t\tĐánh giá mô hình trên tập dữ liệu validation\n",
            "\t\t\tMSE:  0.03956506855750578\n",
            "\tBước lặp huấn luyện thứ:  6\n",
            "\t\tĐánh giá mô hình trên tập dữ liệu validation\n",
            "\t\t\tMSE:  0.045039040893646215\n",
            "\tBước lặp huấn luyện thứ:  7\n",
            "\t\tĐánh giá mô hình trên tập dữ liệu validation\n",
            "\t\t\tMSE:  0.024020650195637448\n",
            "\tBước lặp huấn luyện thứ:  8\n",
            "\t\tĐánh giá mô hình trên tập dữ liệu validation\n",
            "\t\t\tMSE:  0.025098986124798744\n",
            "\tBước lặp huấn luyện thứ:  9\n",
            "\t\tĐánh giá mô hình trên tập dữ liệu validation\n",
            "\t\t\tMSE:  0.03216624141625504\n",
            "\tBước lặp huấn luyện thứ:  10\n",
            "\t\tĐánh giá mô hình trên tập dữ liệu validation\n",
            "\t\t\tMSE:  0.08145407034422027\n",
            "ĐÁNH GIÁ HIỆU NĂNG CỦA MÔ HÌNH TRÊN TẬP DỮ LIỆU TEST\n",
            "\tMSE:  0.04060001428592114\n"
          ]
        }
      ],
      "source": [
        "def readData(filePath: str,filename: str):\n",
        "  D = pd.read_csv(os.path.join(filePath, filename), delimiter=',')\n",
        "  scaler = MinMaxScaler()\n",
        "  scaler.fit(D)\n",
        "  D = scaler.transform(D)\n",
        "  X, y = D[:, :-1], D[:, -1]\n",
        "\n",
        "  print('X shape: ', X.shape)\n",
        "  print('y shape: ', y.shape)\n",
        "  #Xác định số lượng mẫu của từng nhãn lớp - balanced dataset?\n",
        "  unique, counts = np.unique(y, return_counts=True)\n",
        "  result = dict(zip(unique, counts))\n",
        "  print(result)\n",
        "\n",
        "  return X, y\n",
        "\n",
        "def k_fold_10_linear(kf, X_train, y_train, X, model, step):\n",
        "  for train2_index, val_index in kf.split(X = X_train,y = y_train):\n",
        "    step = step + 1\n",
        "    print('\\tBước lặp huấn luyện thứ: ', step)\n",
        "    w_opt = np.zeros((X.shape[1], 1))\n",
        "    X_train2, X_val = X_train[train2_index], X_train[val_index]\n",
        "    y_train2, y_val = y_train[train2_index], y_train[val_index]\n",
        "    model.fit(X_train2, y_train2)\n",
        "    print('\\t\\tĐánh giá mô hình trên tập dữ liệu validation')\n",
        "    y_hat = model.predict(X_val)\n",
        "    print('\\t\\t\\tMSE: ', mean_squared_error(y_val, y_hat))\n",
        "\n",
        "def main():\n",
        "  #Bước 1: Đọc dữ liệu\n",
        "  X, y = readData('/content','breast-cancer-wisconsin.data')\n",
        "\n",
        "  #Bước 2: Phân chia train - test theo tỉ lệ 70% - 30%\n",
        "  X_train, X_test, y_train, y_test = train_test_split(X, y, test_size=0.30, random_state=15)\n",
        "\n",
        "  #LogisticRegression\n",
        "  #Bước 3: Xác định k-fold\n",
        "  kf = KFold(n_splits=10)\n",
        "\n",
        "  #Bước 4: Huấn luyện mô hình\n",
        "  print('Huấn luyện mô hình LinearRegression với k-fold')\n",
        "  model = LinearRegression()\n",
        "  step = 0\n",
        "  k_fold_10_linear(kf, X_train, y_train, X, model, step)\n",
        "\n",
        "  #Bước 5: Kiểm định mô hình với tập dữ liệu test\n",
        "  print('ĐÁNH GIÁ HIỆU NĂNG CỦA MÔ HÌNH TRÊN TẬP DỮ LIỆU TEST')\n",
        "  y_hat = model.predict(X_test)\n",
        "  print('\\tMSE: ', mean_squared_error(y_test, y_hat))\n",
        "\n",
        "if __name__ == \"__main__\":\n",
        "  main()"
      ]
    },
    {
      "cell_type": "markdown",
      "source": [
        "#### *k-NN for Breast cancer data*\n",
        "\n"
      ],
      "metadata": {
        "id": "ve6F06L0ZlzZ"
      }
    },
    {
      "cell_type": "code",
      "source": [
        "#k-NN\n",
        "#B3: Xác định số lượng mẫu dữ liệu va k_max\n",
        "def count_sample_k_max(y_train):\n",
        "  m = y_train.shape[0]\n",
        "  k_max = int(sqrt(m)/2)\n",
        "  print('k max: ', k_max)\n",
        "  return m, k_max\n",
        "\n",
        "#B4: Tạo lưới tham số với GridSearchCV\n",
        "def create_params(k_max):\n",
        "  k_values = np.arange(start=1, stop = k_max + 1, dtype=int)\n",
        "  print('Các giá trị k: ', k_values)\n",
        "  params = {'n_neighbors': k_values}  \n",
        "  return params     \n",
        "\n",
        "\n",
        "def main():\n",
        "  #Bước 1: Đọc dữ liệu\n",
        "  X, y = readData('/content','breast-cancer-wisconsin.data')\n",
        "\n",
        "  #Bước 2: Phân chia train - test theo tỉ lệ 70% - 30%\n",
        "  X_train, X_test, y_train, y_test = train_test_split(X, y, test_size=0.30, random_state=15)\n",
        "\n",
        "  #B3: Xác định số lượng mẫu dữ liệu va k_max\n",
        "  m, k_max = count_sample_k_max(y_train)\n",
        "\n",
        "  #B4: Tạo lưới tham số với GridSearchCV\n",
        "  params = create_params(k_max)\n",
        "\n",
        "  #B5: Khởi tạo và huấn luyện mô hình\n",
        "  kNN = KNeighborsRegressor()\n",
        "  kNN_grid = GridSearchCV(kNN, params, cv=10)\n",
        "  kNN_grid.fit(X_train, y_train)\n",
        "\n",
        "  #B6: Thông báo giá trị k tối ưu\n",
        "  print('Giá trị k tối ưu là: ', kNN_grid.best_params_)\n",
        "  #B7: Đánh giá hiệu năng trên tập test\n",
        "  y_hat = kNN_grid.predict(X_test)\n",
        "  print('Độ đo MSE là: ', mean_squared_error(y_hat, y_test))\n",
        "\n",
        "if __name__ == \"__main__\":\n",
        "  main()"
      ],
      "metadata": {
        "colab": {
          "base_uri": "https://localhost:8080/"
        },
        "id": "9o6TU_S1Z6aS",
        "outputId": "b9dc5ae5-9338-4a27-ec9a-e2afcf3d3ec7"
      },
      "execution_count": 4,
      "outputs": [
        {
          "output_type": "stream",
          "name": "stdout",
          "text": [
            "X shape:  (698, 10)\n",
            "y shape:  (698,)\n",
            "{0.0: 457, 1.0: 241}\n",
            "k max:  11\n",
            "Các giá trị k:  [ 1  2  3  4  5  6  7  8  9 10 11]\n",
            "Giá trị k tối ưu là:  {'n_neighbors': 5}\n",
            "Độ đo MSE là:  0.0220952380952381\n"
          ]
        }
      ]
    },
    {
      "cell_type": "markdown",
      "source": [
        "#### *Naive Bayes for Breast cancer data*"
      ],
      "metadata": {
        "id": "eTIdHb-m_0rU"
      }
    },
    {
      "cell_type": "code",
      "source": [
        "#Bước 1: Đọc dữ liệu\n",
        "X, y = readData('/content','breast-cancer-wisconsin.data')\n",
        "\n",
        "#Bước 2: Phân chia train - test theo tỉ lệ 70% - 30%\n",
        "X_train, X_test, y_train, y_test = train_test_split(X, y, test_size=0.30, random_state=15)\n",
        "\n",
        "#Bước 3: Khởi tạo và huấn luyện mô hình\n",
        "gnb_model = GaussianNB()\n",
        "gnb_model.fit(X_train, y_train)\n",
        "\n",
        "#Bước 4: Dự đoán và đánh giá độ chính xác\n",
        "y_hat = gnb_model.predict(X_test)\n",
        "print('Độ chính xác: ', accuracy_score(y_hat, y_test))\n",
        "\n",
        "#Bước 5: Đánh giá 10-fold CV\n",
        "scores = cross_val_score(gnb_model, X_train, y_train, cv = 10,\n",
        "scoring='accuracy')\n",
        "print('10-fold CV results')\n",
        "print(scores)\n",
        "print('ĐỘ chính xác trung bình của 10-fold CV: ', np.mean(scores))"
      ],
      "metadata": {
        "id": "TzmpSGrA4WT5",
        "colab": {
          "base_uri": "https://localhost:8080/"
        },
        "outputId": "4d0a36d9-def5-43fc-cb4f-022c09d253c2"
      },
      "execution_count": 7,
      "outputs": [
        {
          "output_type": "stream",
          "name": "stdout",
          "text": [
            "X shape:  (698, 10)\n",
            "y shape:  (698,)\n",
            "{0.0: 457, 1.0: 241}\n",
            "Độ chính xác:  0.9571428571428572\n",
            "10-fold CV results\n",
            "[0.95918367 0.95918367 0.97959184 1.         0.95918367 0.93877551\n",
            " 0.97959184 0.97959184 0.95833333 0.91666667]\n",
            "ĐỘ chính xác trung bình của 10-fold CV:  0.9630102040816327\n"
          ]
        }
      ]
    },
    {
      "cell_type": "markdown",
      "source": [
        "### Wine data"
      ],
      "metadata": {
        "id": "6Law9TaKBcgM"
      }
    },
    {
      "cell_type": "markdown",
      "source": [
        "#### *LogisticRegression for Wine data*"
      ],
      "metadata": {
        "id": "M4D1YOA-BkQ0"
      }
    },
    {
      "cell_type": "code",
      "source": [
        "def readData(filePath: str,filename: str):\n",
        "  D = pd.read_csv(os.path.join(filePath, filename), delimiter=',')\n",
        "  scaler = MinMaxScaler()\n",
        "  scaler.fit(D)\n",
        "  D = scaler.transform(D)\n",
        "  X, y = D[:, :-1], D[:, -1]\n",
        "\n",
        "  print('X shape: ', X.shape)\n",
        "  print('y shape: ', y.shape)\n",
        "  #Xác định số lượng mẫu của từng nhãn lớp - balanced dataset?\n",
        "  unique, counts = np.unique(y, return_counts=True)\n",
        "  result = dict(zip(unique, counts))\n",
        "  print(result)\n",
        "\n",
        "  return X, y\n",
        "\n",
        "def k_fold_10_linear(kf, X_train, y_train, X, model, step):\n",
        "  for train2_index, val_index in kf.split(X = X_train,y = y_train):\n",
        "    step = step + 1\n",
        "    print('\\tBước lặp huấn luyện thứ: ', step)\n",
        "    w_opt = np.zeros((X.shape[1], 1))\n",
        "    X_train2, X_val = X_train[train2_index], X_train[val_index]\n",
        "    y_train2, y_val = y_train[train2_index], y_train[val_index]\n",
        "    model.fit(X_train2, y_train2)\n",
        "    print('\\t\\tĐánh giá mô hình trên tập dữ liệu validation')\n",
        "    y_hat = model.predict(X_val)\n",
        "    print('\\t\\t\\tMSE: ', mean_squared_error(y_val, y_hat))\n",
        "\n",
        "def main():\n",
        "  #Bước 1: Đọc dữ liệu\n",
        "  X, y = readData('/content','wine.data')\n",
        "\n",
        "  #Bước 2: Phân chia train - test theo tỉ lệ 70% - 30%\n",
        "  X_train, X_test, y_train, y_test = train_test_split(X, y, test_size=0.30, random_state=15)\n",
        "\n",
        "  #LogisticRegression\n",
        "  #Bước 3: Xác định k-fold\n",
        "  kf = KFold(n_splits=10)\n",
        "\n",
        "  #Bước 4: Huấn luyện mô hình\n",
        "  print('Huấn luyện mô hình LinearRegression với k-fold')\n",
        "  model = LinearRegression()\n",
        "  step = 0\n",
        "  k_fold_10_linear(kf, X_train, y_train, X, model, step)\n",
        "\n",
        "  #Bước 5: Kiểm định mô hình với tập dữ liệu test\n",
        "  print('ĐÁNH GIÁ HIỆU NĂNG CỦA MÔ HÌNH TRÊN TẬP DỮ LIỆU TEST')\n",
        "  y_hat = model.predict(X_test)\n",
        "  print('\\tMSE: ', mean_squared_error(y_test, y_hat))\n",
        "\n",
        "if __name__ == \"__main__\":\n",
        "  main()"
      ],
      "metadata": {
        "colab": {
          "base_uri": "https://localhost:8080/"
        },
        "id": "EruM0QdzBhhc",
        "outputId": "fcf18aea-4a7c-440f-b506-4f7e37227548"
      },
      "execution_count": 8,
      "outputs": [
        {
          "output_type": "stream",
          "name": "stdout",
          "text": [
            "X shape:  (177, 13)\n",
            "y shape:  (177,)\n",
            "{0.0: 1, 0.008559201141226797: 1, 0.02425106990014264: 1, 0.02639087018544936: 1, 0.033523537803138354: 1, 0.0456490727532097: 1, 0.047788873038516394: 2, 0.052781740370898694: 1, 0.054921540656205386: 1, 0.062054208273894434: 1, 0.06704707560627673: 1, 0.07132667617689017: 1, 0.07275320970042795: 2, 0.07631954350927247: 1, 0.08131241084165478: 1, 0.09129814550641938: 1, 0.09201141226818829: 1, 0.09415121255349498: 1, 0.09771754636233951: 2, 0.10128388017118403: 1, 0.1048502139800285: 1, 0.10699001426533525: 2, 0.11126961483594863: 1, 0.11412268188302424: 1, 0.12268188302425106: 3, 0.1319543509272468: 1, 0.13338088445078458: 1, 0.1340941512125535: 1, 0.1369472182596291: 1, 0.13837375178316688: 1, 0.1440798858773181: 3, 0.14978601997146931: 1, 0.15477888730385161: 3, 0.15834522111269614: 2, 0.15977175463623397: 1, 0.1654778887303852: 3, 0.16904422253922965: 2, 0.17261055634807418: 5, 0.17974322396576317: 1, 0.1940085592011412: 2, 0.20114122681883026: 2, 0.20256776034236804: 3, 0.20399429386590587: 1, 0.20827389443651925: 1, 0.21540656205420824: 2, 0.2225392296718973: 1, 0.22967189728958629: 2, 0.23466476462196864: 1, 0.2403708987161198: 1, 0.24393723252496433: 1, 0.24750356633380885: 4, 0.2510699001426534: 4, 0.25820256776034234: 1, 0.2653352353780314: 2, 0.27246790299572043: 3, 0.2810271041369472: 1, 0.2831669044222539: 2, 0.2853067047075606: 1, 0.2867332382310984: 5, 0.29029957203994294: 1, 0.297432239657632: 2, 0.30813124108416545: 1, 0.3109843081312411: 1, 0.31383737517831667: 1, 0.3152639087018545: 1, 0.318830242510699: 1, 0.3259629101283881: 1, 0.3295292439372326: 1, 0.33666191155492153: 4, 0.3437945791726106: 1, 0.35092724679029963: 1, 0.35805991440798857: 2, 0.36875891583452214: 1, 0.3937232524964337: 2, 0.3972895863052782: 1, 0.40085592011412274: 1, 0.40442225392296727: 2, 0.4115549215406562: 1, 0.4222539229671898: 1, 0.4293865905848788: 2, 0.43295292439372324: 1, 0.4336661911554922: 1, 0.4543509272467904: 1, 0.4579172610556348: 1, 0.4700427960057062: 1, 0.4935805991440799: 1, 0.5042796005706135: 2, 0.5078459343794579: 1, 0.5256776034236805: 1, 0.529243937232525: 1, 0.5399429386590585: 3, 0.5470756062767476: 2, 0.5506419400855921: 1, 0.557774607703281: 2, 0.5613409415121255: 1, 0.5720399429386591: 1, 0.5827389443651926: 2, 0.5898716119828816: 1, 0.6005706134094152: 1, 0.6077032810271041: 1, 0.6219686162624822: 2, 0.6469329529243938: 1, 0.6504992867332383: 1, 0.6540656205420827: 1, 0.6825962910128388: 1, 0.7004279600570614: 1, 0.7039942938659058: 1, 0.7075606276747504: 1, 0.7146932952924394: 2, 0.7182596291012839: 3, 0.7218259629101285: 1, 0.725392296718973: 1, 0.7360912981455064: 1, 0.7432239657631955: 1, 0.782453637660485: 1, 0.8359486447931527: 1, 0.8573466476462198: 1, 0.8787446504992867: 1, 0.8823109843081313: 1, 0.9051355206847361: 1, 1.0: 1}\n",
            "Huấn luyện mô hình LinearRegression với k-fold\n",
            "\tBước lặp huấn luyện thứ:  1\n",
            "\t\tĐánh giá mô hình trên tập dữ liệu validation\n",
            "\t\t\tMSE:  0.020777281984734428\n",
            "\tBước lặp huấn luyện thứ:  2\n",
            "\t\tĐánh giá mô hình trên tập dữ liệu validation\n",
            "\t\t\tMSE:  0.01546152983605489\n",
            "\tBước lặp huấn luyện thứ:  3\n",
            "\t\tĐánh giá mô hình trên tập dữ liệu validation\n",
            "\t\t\tMSE:  0.01422954962037509\n",
            "\tBước lặp huấn luyện thứ:  4\n",
            "\t\tĐánh giá mô hình trên tập dữ liệu validation\n",
            "\t\t\tMSE:  0.01741668349392576\n",
            "\tBước lặp huấn luyện thứ:  5\n",
            "\t\tĐánh giá mô hình trên tập dữ liệu validation\n",
            "\t\t\tMSE:  0.011682997865667578\n",
            "\tBước lặp huấn luyện thứ:  6\n",
            "\t\tĐánh giá mô hình trên tập dữ liệu validation\n",
            "\t\t\tMSE:  0.017785653985098446\n",
            "\tBước lặp huấn luyện thứ:  7\n",
            "\t\tĐánh giá mô hình trên tập dữ liệu validation\n",
            "\t\t\tMSE:  0.01369315029004149\n",
            "\tBước lặp huấn luyện thứ:  8\n",
            "\t\tĐánh giá mô hình trên tập dữ liệu validation\n",
            "\t\t\tMSE:  0.012049339264380989\n",
            "\tBước lặp huấn luyện thứ:  9\n",
            "\t\tĐánh giá mô hình trên tập dữ liệu validation\n",
            "\t\t\tMSE:  0.01936551110877256\n",
            "\tBước lặp huấn luyện thứ:  10\n",
            "\t\tĐánh giá mô hình trên tập dữ liệu validation\n",
            "\t\t\tMSE:  0.027593347750773826\n",
            "ĐÁNH GIÁ HIỆU NĂNG CỦA MÔ HÌNH TRÊN TẬP DỮ LIỆU TEST\n",
            "\tMSE:  0.0195267855755841\n"
          ]
        }
      ]
    },
    {
      "cell_type": "markdown",
      "source": [
        "#### *k-NN for Wine data*"
      ],
      "metadata": {
        "id": "cPoFjm0VB270"
      }
    },
    {
      "cell_type": "code",
      "source": [
        "#k-NN\n",
        "#B3: Xác định số lượng mẫu dữ liệu va k_max\n",
        "def count_sample_k_max(y_train):\n",
        "  m = y_train.shape[0]\n",
        "  k_max = int(sqrt(m)/2)\n",
        "  print('k max: ', k_max)\n",
        "  return m, k_max\n",
        "\n",
        "#B4: Tạo lưới tham số với GridSearchCV\n",
        "def create_params(k_max):\n",
        "  k_values = np.arange(start=1, stop = k_max + 1, dtype=int)\n",
        "  print('Các giá trị k: ', k_values)\n",
        "  params = {'n_neighbors': k_values}  \n",
        "  return params     \n",
        "\n",
        "\n",
        "def main():\n",
        "  #Bước 1: Đọc dữ liệu\n",
        "  X, y = readData('/content','wine.data')\n",
        "\n",
        "  #Bước 2: Phân chia train - test theo tỉ lệ 70% - 30%\n",
        "  X_train, X_test, y_train, y_test = train_test_split(X, y, test_size=0.30, random_state=15)\n",
        "\n",
        "  #B3: Xác định số lượng mẫu dữ liệu va k_max\n",
        "  m, k_max = count_sample_k_max(y_train)\n",
        "\n",
        "  #B4: Tạo lưới tham số với GridSearchCV\n",
        "  params = create_params(k_max)\n",
        "\n",
        "  #B5: Khởi tạo và huấn luyện mô hình\n",
        "  kNN = KNeighborsRegressor()\n",
        "  kNN_grid = GridSearchCV(kNN, params, cv=10)\n",
        "  kNN_grid.fit(X_train, y_train)\n",
        "\n",
        "  #B6: Thông báo giá trị k tối ưu\n",
        "  print('Giá trị k tối ưu là: ', kNN_grid.best_params_)\n",
        "  #B7: Đánh giá hiệu năng trên tập test\n",
        "  y_hat = kNN_grid.predict(X_test)\n",
        "  print('Độ đo MSE là: ', mean_squared_error(y_hat, y_test))\n",
        "\n",
        "if __name__ == \"__main__\":\n",
        "  main()"
      ],
      "metadata": {
        "colab": {
          "base_uri": "https://localhost:8080/"
        },
        "id": "YQKMTJE5B1sF",
        "outputId": "f0b91d88-6969-4aa7-db69-4ca5d6a7771c"
      },
      "execution_count": 11,
      "outputs": [
        {
          "output_type": "stream",
          "name": "stdout",
          "text": [
            "X shape:  (177, 13)\n",
            "y shape:  (177,)\n",
            "{0.0: 1, 0.008559201141226797: 1, 0.02425106990014264: 1, 0.02639087018544936: 1, 0.033523537803138354: 1, 0.0456490727532097: 1, 0.047788873038516394: 2, 0.052781740370898694: 1, 0.054921540656205386: 1, 0.062054208273894434: 1, 0.06704707560627673: 1, 0.07132667617689017: 1, 0.07275320970042795: 2, 0.07631954350927247: 1, 0.08131241084165478: 1, 0.09129814550641938: 1, 0.09201141226818829: 1, 0.09415121255349498: 1, 0.09771754636233951: 2, 0.10128388017118403: 1, 0.1048502139800285: 1, 0.10699001426533525: 2, 0.11126961483594863: 1, 0.11412268188302424: 1, 0.12268188302425106: 3, 0.1319543509272468: 1, 0.13338088445078458: 1, 0.1340941512125535: 1, 0.1369472182596291: 1, 0.13837375178316688: 1, 0.1440798858773181: 3, 0.14978601997146931: 1, 0.15477888730385161: 3, 0.15834522111269614: 2, 0.15977175463623397: 1, 0.1654778887303852: 3, 0.16904422253922965: 2, 0.17261055634807418: 5, 0.17974322396576317: 1, 0.1940085592011412: 2, 0.20114122681883026: 2, 0.20256776034236804: 3, 0.20399429386590587: 1, 0.20827389443651925: 1, 0.21540656205420824: 2, 0.2225392296718973: 1, 0.22967189728958629: 2, 0.23466476462196864: 1, 0.2403708987161198: 1, 0.24393723252496433: 1, 0.24750356633380885: 4, 0.2510699001426534: 4, 0.25820256776034234: 1, 0.2653352353780314: 2, 0.27246790299572043: 3, 0.2810271041369472: 1, 0.2831669044222539: 2, 0.2853067047075606: 1, 0.2867332382310984: 5, 0.29029957203994294: 1, 0.297432239657632: 2, 0.30813124108416545: 1, 0.3109843081312411: 1, 0.31383737517831667: 1, 0.3152639087018545: 1, 0.318830242510699: 1, 0.3259629101283881: 1, 0.3295292439372326: 1, 0.33666191155492153: 4, 0.3437945791726106: 1, 0.35092724679029963: 1, 0.35805991440798857: 2, 0.36875891583452214: 1, 0.3937232524964337: 2, 0.3972895863052782: 1, 0.40085592011412274: 1, 0.40442225392296727: 2, 0.4115549215406562: 1, 0.4222539229671898: 1, 0.4293865905848788: 2, 0.43295292439372324: 1, 0.4336661911554922: 1, 0.4543509272467904: 1, 0.4579172610556348: 1, 0.4700427960057062: 1, 0.4935805991440799: 1, 0.5042796005706135: 2, 0.5078459343794579: 1, 0.5256776034236805: 1, 0.529243937232525: 1, 0.5399429386590585: 3, 0.5470756062767476: 2, 0.5506419400855921: 1, 0.557774607703281: 2, 0.5613409415121255: 1, 0.5720399429386591: 1, 0.5827389443651926: 2, 0.5898716119828816: 1, 0.6005706134094152: 1, 0.6077032810271041: 1, 0.6219686162624822: 2, 0.6469329529243938: 1, 0.6504992867332383: 1, 0.6540656205420827: 1, 0.6825962910128388: 1, 0.7004279600570614: 1, 0.7039942938659058: 1, 0.7075606276747504: 1, 0.7146932952924394: 2, 0.7182596291012839: 3, 0.7218259629101285: 1, 0.725392296718973: 1, 0.7360912981455064: 1, 0.7432239657631955: 1, 0.782453637660485: 1, 0.8359486447931527: 1, 0.8573466476462198: 1, 0.8787446504992867: 1, 0.8823109843081313: 1, 0.9051355206847361: 1, 1.0: 1}\n",
            "k max:  5\n",
            "Các giá trị k:  [1 2 3 4 5]\n",
            "Giá trị k tối ưu là:  {'n_neighbors': 5}\n",
            "Độ đo MSE là:  0.013758495645142196\n"
          ]
        }
      ]
    },
    {
      "cell_type": "markdown",
      "source": [
        "#### *Naive Bayes for Wine data*"
      ],
      "metadata": {
        "id": "UgraR78DCngM"
      }
    },
    {
      "cell_type": "code",
      "source": [
        "#Bước 1: Đọc dữ liệu\n",
        "X, y = readData('/content','wine.data')\n",
        "\n",
        "#Bước 2: Phân chia train - test theo tỉ lệ 70% - 30%\n",
        "X_train, X_test, y_train, y_test = train_test_split(X, y, test_size=0.30, random_state=15)\n",
        "\n",
        "#Bước 3: Khởi tạo và huấn luyện mô hình\n",
        "gnb_model = GaussianNB()\n",
        "gnb_model.fit(X_train, y_train)\n",
        "\n",
        "#Bước 4: Dự đoán và đánh giá độ chính xác\n",
        "y_hat = gnb_model.predict(X_test)\n",
        "print('Độ chính xác: ', accuracy_score(y_hat, y_test))\n",
        "\n",
        "#Bước 5: Đánh giá 10-fold CV\n",
        "scores = cross_val_score(gnb_model, X_train, y_train, cv = 10, scoring='accuracy')\n",
        "print('10-fold CV results')\n",
        "print(scores)\n",
        "print('ĐỘ chính xác trung bình của 10-fold CV: ', np.mean(scores))"
      ],
      "metadata": {
        "colab": {
          "base_uri": "https://localhost:8080/",
          "height": 765
        },
        "id": "PEZ7j02-Cw4U",
        "outputId": "e3aa7bbc-8dae-41b7-b733-e75fc9a7481c"
      },
      "execution_count": 12,
      "outputs": [
        {
          "output_type": "stream",
          "name": "stdout",
          "text": [
            "X shape:  (177, 13)\n",
            "y shape:  (177,)\n",
            "{0.0: 1, 0.008559201141226797: 1, 0.02425106990014264: 1, 0.02639087018544936: 1, 0.033523537803138354: 1, 0.0456490727532097: 1, 0.047788873038516394: 2, 0.052781740370898694: 1, 0.054921540656205386: 1, 0.062054208273894434: 1, 0.06704707560627673: 1, 0.07132667617689017: 1, 0.07275320970042795: 2, 0.07631954350927247: 1, 0.08131241084165478: 1, 0.09129814550641938: 1, 0.09201141226818829: 1, 0.09415121255349498: 1, 0.09771754636233951: 2, 0.10128388017118403: 1, 0.1048502139800285: 1, 0.10699001426533525: 2, 0.11126961483594863: 1, 0.11412268188302424: 1, 0.12268188302425106: 3, 0.1319543509272468: 1, 0.13338088445078458: 1, 0.1340941512125535: 1, 0.1369472182596291: 1, 0.13837375178316688: 1, 0.1440798858773181: 3, 0.14978601997146931: 1, 0.15477888730385161: 3, 0.15834522111269614: 2, 0.15977175463623397: 1, 0.1654778887303852: 3, 0.16904422253922965: 2, 0.17261055634807418: 5, 0.17974322396576317: 1, 0.1940085592011412: 2, 0.20114122681883026: 2, 0.20256776034236804: 3, 0.20399429386590587: 1, 0.20827389443651925: 1, 0.21540656205420824: 2, 0.2225392296718973: 1, 0.22967189728958629: 2, 0.23466476462196864: 1, 0.2403708987161198: 1, 0.24393723252496433: 1, 0.24750356633380885: 4, 0.2510699001426534: 4, 0.25820256776034234: 1, 0.2653352353780314: 2, 0.27246790299572043: 3, 0.2810271041369472: 1, 0.2831669044222539: 2, 0.2853067047075606: 1, 0.2867332382310984: 5, 0.29029957203994294: 1, 0.297432239657632: 2, 0.30813124108416545: 1, 0.3109843081312411: 1, 0.31383737517831667: 1, 0.3152639087018545: 1, 0.318830242510699: 1, 0.3259629101283881: 1, 0.3295292439372326: 1, 0.33666191155492153: 4, 0.3437945791726106: 1, 0.35092724679029963: 1, 0.35805991440798857: 2, 0.36875891583452214: 1, 0.3937232524964337: 2, 0.3972895863052782: 1, 0.40085592011412274: 1, 0.40442225392296727: 2, 0.4115549215406562: 1, 0.4222539229671898: 1, 0.4293865905848788: 2, 0.43295292439372324: 1, 0.4336661911554922: 1, 0.4543509272467904: 1, 0.4579172610556348: 1, 0.4700427960057062: 1, 0.4935805991440799: 1, 0.5042796005706135: 2, 0.5078459343794579: 1, 0.5256776034236805: 1, 0.529243937232525: 1, 0.5399429386590585: 3, 0.5470756062767476: 2, 0.5506419400855921: 1, 0.557774607703281: 2, 0.5613409415121255: 1, 0.5720399429386591: 1, 0.5827389443651926: 2, 0.5898716119828816: 1, 0.6005706134094152: 1, 0.6077032810271041: 1, 0.6219686162624822: 2, 0.6469329529243938: 1, 0.6504992867332383: 1, 0.6540656205420827: 1, 0.6825962910128388: 1, 0.7004279600570614: 1, 0.7039942938659058: 1, 0.7075606276747504: 1, 0.7146932952924394: 2, 0.7182596291012839: 3, 0.7218259629101285: 1, 0.725392296718973: 1, 0.7360912981455064: 1, 0.7432239657631955: 1, 0.782453637660485: 1, 0.8359486447931527: 1, 0.8573466476462198: 1, 0.8787446504992867: 1, 0.8823109843081313: 1, 0.9051355206847361: 1, 1.0: 1}\n"
          ]
        },
        {
          "output_type": "error",
          "ename": "ValueError",
          "evalue": "ignored",
          "traceback": [
            "\u001b[0;31m---------------------------------------------------------------------------\u001b[0m",
            "\u001b[0;31mValueError\u001b[0m                                Traceback (most recent call last)",
            "\u001b[0;32m<ipython-input-12-d6b645ed88bc>\u001b[0m in \u001b[0;36m<module>\u001b[0;34m\u001b[0m\n\u001b[1;32m      7\u001b[0m \u001b[0;31m#Bước 3: Khởi tạo và huấn luyện mô hình\u001b[0m\u001b[0;34m\u001b[0m\u001b[0;34m\u001b[0m\u001b[0;34m\u001b[0m\u001b[0m\n\u001b[1;32m      8\u001b[0m \u001b[0mgnb_model\u001b[0m \u001b[0;34m=\u001b[0m \u001b[0mGaussianNB\u001b[0m\u001b[0;34m(\u001b[0m\u001b[0;34m)\u001b[0m\u001b[0;34m\u001b[0m\u001b[0;34m\u001b[0m\u001b[0m\n\u001b[0;32m----> 9\u001b[0;31m \u001b[0mgnb_model\u001b[0m\u001b[0;34m.\u001b[0m\u001b[0mfit\u001b[0m\u001b[0;34m(\u001b[0m\u001b[0mX_train\u001b[0m\u001b[0;34m,\u001b[0m \u001b[0my_train\u001b[0m\u001b[0;34m)\u001b[0m\u001b[0;34m\u001b[0m\u001b[0;34m\u001b[0m\u001b[0m\n\u001b[0m\u001b[1;32m     10\u001b[0m \u001b[0;34m\u001b[0m\u001b[0m\n\u001b[1;32m     11\u001b[0m \u001b[0;31m#Bước 4: Dự đoán và đánh giá độ chính xác\u001b[0m\u001b[0;34m\u001b[0m\u001b[0;34m\u001b[0m\u001b[0;34m\u001b[0m\u001b[0m\n",
            "\u001b[0;32m/usr/local/lib/python3.8/dist-packages/sklearn/naive_bayes.py\u001b[0m in \u001b[0;36mfit\u001b[0;34m(self, X, y, sample_weight)\u001b[0m\n\u001b[1;32m    243\u001b[0m         \"\"\"\n\u001b[1;32m    244\u001b[0m         \u001b[0my\u001b[0m \u001b[0;34m=\u001b[0m \u001b[0mself\u001b[0m\u001b[0;34m.\u001b[0m\u001b[0m_validate_data\u001b[0m\u001b[0;34m(\u001b[0m\u001b[0my\u001b[0m\u001b[0;34m=\u001b[0m\u001b[0my\u001b[0m\u001b[0;34m)\u001b[0m\u001b[0;34m\u001b[0m\u001b[0;34m\u001b[0m\u001b[0m\n\u001b[0;32m--> 245\u001b[0;31m         return self._partial_fit(\n\u001b[0m\u001b[1;32m    246\u001b[0m             \u001b[0mX\u001b[0m\u001b[0;34m,\u001b[0m \u001b[0my\u001b[0m\u001b[0;34m,\u001b[0m \u001b[0mnp\u001b[0m\u001b[0;34m.\u001b[0m\u001b[0munique\u001b[0m\u001b[0;34m(\u001b[0m\u001b[0my\u001b[0m\u001b[0;34m)\u001b[0m\u001b[0;34m,\u001b[0m \u001b[0m_refit\u001b[0m\u001b[0;34m=\u001b[0m\u001b[0;32mTrue\u001b[0m\u001b[0;34m,\u001b[0m \u001b[0msample_weight\u001b[0m\u001b[0;34m=\u001b[0m\u001b[0msample_weight\u001b[0m\u001b[0;34m\u001b[0m\u001b[0;34m\u001b[0m\u001b[0m\n\u001b[1;32m    247\u001b[0m         )\n",
            "\u001b[0;32m/usr/local/lib/python3.8/dist-packages/sklearn/naive_bayes.py\u001b[0m in \u001b[0;36m_partial_fit\u001b[0;34m(self, X, y, classes, _refit, sample_weight)\u001b[0m\n\u001b[1;32m    399\u001b[0m             \u001b[0mself\u001b[0m\u001b[0;34m.\u001b[0m\u001b[0mclasses_\u001b[0m \u001b[0;34m=\u001b[0m \u001b[0;32mNone\u001b[0m\u001b[0;34m\u001b[0m\u001b[0;34m\u001b[0m\u001b[0m\n\u001b[1;32m    400\u001b[0m \u001b[0;34m\u001b[0m\u001b[0m\n\u001b[0;32m--> 401\u001b[0;31m         \u001b[0mfirst_call\u001b[0m \u001b[0;34m=\u001b[0m \u001b[0m_check_partial_fit_first_call\u001b[0m\u001b[0;34m(\u001b[0m\u001b[0mself\u001b[0m\u001b[0;34m,\u001b[0m \u001b[0mclasses\u001b[0m\u001b[0;34m)\u001b[0m\u001b[0;34m\u001b[0m\u001b[0;34m\u001b[0m\u001b[0m\n\u001b[0m\u001b[1;32m    402\u001b[0m         \u001b[0mX\u001b[0m\u001b[0;34m,\u001b[0m \u001b[0my\u001b[0m \u001b[0;34m=\u001b[0m \u001b[0mself\u001b[0m\u001b[0;34m.\u001b[0m\u001b[0m_validate_data\u001b[0m\u001b[0;34m(\u001b[0m\u001b[0mX\u001b[0m\u001b[0;34m,\u001b[0m \u001b[0my\u001b[0m\u001b[0;34m,\u001b[0m \u001b[0mreset\u001b[0m\u001b[0;34m=\u001b[0m\u001b[0mfirst_call\u001b[0m\u001b[0;34m)\u001b[0m\u001b[0;34m\u001b[0m\u001b[0;34m\u001b[0m\u001b[0m\n\u001b[1;32m    403\u001b[0m         \u001b[0;32mif\u001b[0m \u001b[0msample_weight\u001b[0m \u001b[0;32mis\u001b[0m \u001b[0;32mnot\u001b[0m \u001b[0;32mNone\u001b[0m\u001b[0;34m:\u001b[0m\u001b[0;34m\u001b[0m\u001b[0;34m\u001b[0m\u001b[0m\n",
            "\u001b[0;32m/usr/local/lib/python3.8/dist-packages/sklearn/utils/multiclass.py\u001b[0m in \u001b[0;36m_check_partial_fit_first_call\u001b[0;34m(clf, classes)\u001b[0m\n\u001b[1;32m    358\u001b[0m         \u001b[0;32melse\u001b[0m\u001b[0;34m:\u001b[0m\u001b[0;34m\u001b[0m\u001b[0;34m\u001b[0m\u001b[0m\n\u001b[1;32m    359\u001b[0m             \u001b[0;31m# This is the first call to partial_fit\u001b[0m\u001b[0;34m\u001b[0m\u001b[0;34m\u001b[0m\u001b[0;34m\u001b[0m\u001b[0m\n\u001b[0;32m--> 360\u001b[0;31m             \u001b[0mclf\u001b[0m\u001b[0;34m.\u001b[0m\u001b[0mclasses_\u001b[0m \u001b[0;34m=\u001b[0m \u001b[0munique_labels\u001b[0m\u001b[0;34m(\u001b[0m\u001b[0mclasses\u001b[0m\u001b[0;34m)\u001b[0m\u001b[0;34m\u001b[0m\u001b[0;34m\u001b[0m\u001b[0m\n\u001b[0m\u001b[1;32m    361\u001b[0m             \u001b[0;32mreturn\u001b[0m \u001b[0;32mTrue\u001b[0m\u001b[0;34m\u001b[0m\u001b[0;34m\u001b[0m\u001b[0m\n\u001b[1;32m    362\u001b[0m \u001b[0;34m\u001b[0m\u001b[0m\n",
            "\u001b[0;32m/usr/local/lib/python3.8/dist-packages/sklearn/utils/multiclass.py\u001b[0m in \u001b[0;36munique_labels\u001b[0;34m(*ys)\u001b[0m\n\u001b[1;32m     99\u001b[0m     \u001b[0m_unique_labels\u001b[0m \u001b[0;34m=\u001b[0m \u001b[0m_FN_UNIQUE_LABELS\u001b[0m\u001b[0;34m.\u001b[0m\u001b[0mget\u001b[0m\u001b[0;34m(\u001b[0m\u001b[0mlabel_type\u001b[0m\u001b[0;34m,\u001b[0m \u001b[0;32mNone\u001b[0m\u001b[0;34m)\u001b[0m\u001b[0;34m\u001b[0m\u001b[0;34m\u001b[0m\u001b[0m\n\u001b[1;32m    100\u001b[0m     \u001b[0;32mif\u001b[0m \u001b[0;32mnot\u001b[0m \u001b[0m_unique_labels\u001b[0m\u001b[0;34m:\u001b[0m\u001b[0;34m\u001b[0m\u001b[0;34m\u001b[0m\u001b[0m\n\u001b[0;32m--> 101\u001b[0;31m         \u001b[0;32mraise\u001b[0m \u001b[0mValueError\u001b[0m\u001b[0;34m(\u001b[0m\u001b[0;34m\"Unknown label type: %s\"\u001b[0m \u001b[0;34m%\u001b[0m \u001b[0mrepr\u001b[0m\u001b[0;34m(\u001b[0m\u001b[0mys\u001b[0m\u001b[0;34m)\u001b[0m\u001b[0;34m)\u001b[0m\u001b[0;34m\u001b[0m\u001b[0;34m\u001b[0m\u001b[0m\n\u001b[0m\u001b[1;32m    102\u001b[0m \u001b[0;34m\u001b[0m\u001b[0m\n\u001b[1;32m    103\u001b[0m     \u001b[0mys_labels\u001b[0m \u001b[0;34m=\u001b[0m \u001b[0mset\u001b[0m\u001b[0;34m(\u001b[0m\u001b[0mchain\u001b[0m\u001b[0;34m.\u001b[0m\u001b[0mfrom_iterable\u001b[0m\u001b[0;34m(\u001b[0m\u001b[0m_unique_labels\u001b[0m\u001b[0;34m(\u001b[0m\u001b[0my\u001b[0m\u001b[0;34m)\u001b[0m \u001b[0;32mfor\u001b[0m \u001b[0my\u001b[0m \u001b[0;32min\u001b[0m \u001b[0mys\u001b[0m\u001b[0;34m)\u001b[0m\u001b[0;34m)\u001b[0m\u001b[0;34m\u001b[0m\u001b[0;34m\u001b[0m\u001b[0m\n",
            "\u001b[0;31mValueError\u001b[0m: Unknown label type: (array([0.        , 0.02425107, 0.02639087, 0.03352354, 0.04564907,\n       0.04778887, 0.05492154, 0.07132668, 0.07275321, 0.07631954,\n       0.08131241, 0.09129815, 0.09201141, 0.09415121, 0.09771755,\n       0.10128388, 0.10699001, 0.11126961, 0.11412268, 0.12268188,\n       0.13409415, 0.13694722, 0.14407989, 0.14978602, 0.15477889,\n       0.15834522, 0.15977175, 0.16547789, 0.16904422, 0.17261056,\n       0.19400856, 0.20114123, 0.20256776, 0.20399429, 0.20827389,\n       0.21540656, 0.2403709 , 0.24393723, 0.24750357, 0.2510699 ,\n       0.25820257, 0.26533524, 0.2724679 , 0.2831669 , 0.2853067 ,\n       0.28673324, 0.29029957, 0.29743224, 0.30813124, 0.31098431,\n       0.31526391, 0.32952924, 0.33666191, 0.34379458, 0.35092725,\n       0.35805991, 0.36875892, 0.39372325, 0.39728959, 0.40442225,\n       0.41155492, 0.42225392, 0.42938659, 0.43295292, 0.43366619,\n       0.45435093, 0.45791726, 0.5042796 , 0.5256776 , 0.52924394,\n       0.53994294, 0.54707561, 0.55064194, 0.55777461, 0.56134094,\n       0.57203994, 0.58273894, 0.60057061, 0.60770328, 0.62196862,\n       0.64693295, 0.65049929, 0.68259629, 0.70399429, 0.70756063,\n       0.7146933 , 0.71825963, 0.7360913 , 0.78245364, 0.83594864,\n       0.85734665, 1.        ]),)"
          ]
        }
      ]
    },
    {
      "cell_type": "markdown",
      "source": [
        "### **Đánh giá hiệu năng**"
      ],
      "metadata": {
        "id": "mz9NHQa-A040"
      }
    },
    {
      "cell_type": "code",
      "source": [],
      "metadata": {
        "id": "2h3vJLoWA6R2"
      },
      "execution_count": null,
      "outputs": []
    }
  ]
}