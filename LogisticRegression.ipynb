{
  "nbformat": 4,
  "nbformat_minor": 0,
  "metadata": {
    "colab": {
      "provenance": [],
      "mount_file_id": "1gYxHevsCittTQSQfJu6PRe0IRHizhZgF",
      "authorship_tag": "ABX9TyNXPA3GU5urRjxQx4IjBdcy",
      "include_colab_link": true
    },
    "kernelspec": {
      "name": "python3",
      "display_name": "Python 3"
    },
    "language_info": {
      "name": "python"
    }
  },
  "cells": [
    {
      "cell_type": "markdown",
      "metadata": {
        "id": "view-in-github",
        "colab_type": "text"
      },
      "source": [
        "<a href=\"https://colab.research.google.com/github/rekuantsun/Hoc-May/blob/main/LogisticRegression.ipynb\" target=\"_parent\"><img src=\"https://colab.research.google.com/assets/colab-badge.svg\" alt=\"Open In Colab\"/></a>"
      ]
    },
    {
      "cell_type": "code",
      "execution_count": 1,
      "metadata": {
        "id": "_51tzW2PcSAz"
      },
      "outputs": [],
      "source": [
        "import numpy as np\n",
        "import os"
      ]
    },
    {
      "cell_type": "code",
      "source": [
        "def readData(filePath: str, filename: str):\n",
        "  data = np.loadtxt(os.path.join(filePath, filename), delimiter=',')\n",
        "  X = data[:,:-1]\n",
        "  y = data[:,-1]\n",
        "  m = X.shape[0]\n",
        "  n = X.shape[1]\n",
        "  X = np.reshape(X, (m,n))\n",
        "  y = np.reshape(y, (m,1))\n",
        "  #them cot x0 = 1 vao X\n",
        "  x0 = np.ones((m,1))\n",
        "  X = np.column_stack([x0 ,X])\n",
        "  return X, y"
      ],
      "metadata": {
        "id": "K5btF09fcUjg"
      },
      "execution_count": 14,
      "outputs": []
    },
    {
      "cell_type": "code",
      "source": [
        "def featureVectorScaling(data):\n",
        "    avg = np.mean(data)\n",
        "    sln = data.max()\n",
        "    snn = data.min()\n",
        "    data_scl = (data - avg)/(sln - snn)\n",
        "    print(data_scl[1])\n",
        "    return data_scl\n",
        "\n",
        "def normalizeData(X):\n",
        "    X_scl = X[:, 0]\n",
        "    for i in range(1, X.shape[1]):\n",
        "        scl = featureVectorScaling(X[:, i])\n",
        "        X_scl = np.column_stack([X_scl, scl])\n",
        "    return X_scl"
      ],
      "metadata": {
        "id": "SPQllgMJYGBM"
      },
      "execution_count": 3,
      "outputs": []
    },
    {
      "cell_type": "code",
      "source": [
        "#day chinh la ham h(w)\n",
        "def sigmoid(X,w):\n",
        "  result = 1/( 1 + np.exp(-np.dot(X,w)))\n",
        "  return result"
      ],
      "metadata": {
        "id": "KAtnTkmbccAF"
      },
      "execution_count": 4,
      "outputs": []
    },
    {
      "cell_type": "code",
      "source": [
        "def loss(X, y, w):\n",
        "    m = y.shape[0]\n",
        "    result = (-1/m)*np.sum(np.dot(y.T, np.log(sigmoid(X, w))) + np.dot((1 - y).T, np.log(1 - sigmoid(X, w))))\n",
        "    return result"
      ],
      "metadata": {
        "id": "CNRHrZitfUTm"
      },
      "execution_count": 9,
      "outputs": []
    },
    {
      "cell_type": "code",
      "source": [
        "def gradient(X,y,w):\n",
        "  m = X.shape[0]\n",
        "  result = (1/m)*np.dot(X.T, sigmoid(X,w) - y)\n",
        "  return result"
      ],
      "metadata": {
        "id": "JvLHQ4_RhIwo"
      },
      "execution_count": 6,
      "outputs": []
    },
    {
      "cell_type": "code",
      "source": [
        "def gradientDescent(X, y, w, alpha, n_iters):\n",
        "    w_optimal = w.copy()\n",
        "    J_history = []\n",
        "    for i in range(n_iters):\n",
        "        w_optimal = w_optimal - alpha*gradient(X, y, w_optimal)\n",
        "        J_history.append(loss(X, y, w_optimal))\n",
        "    return w_optimal, J_history"
      ],
      "metadata": {
        "id": "_78WKQbOis_G"
      },
      "execution_count": 10,
      "outputs": []
    },
    {
      "cell_type": "code",
      "source": [
        "def main():\n",
        "  X, y = readData('/content/drive/MyDrive','ex2data1.txt')\n",
        "  X_scl = normalizeData(X)\n",
        "  n = X_scl.shape[1]\n",
        "  w = np.zeros((n, 1))\n",
        "  alpha = 0.01\n",
        "  n_iters = 2000\n",
        "  w_opt, J_hist = gradientDescent(X_scl, y, w, alpha, n_iters)\n",
        "  print(\"Ket qua la: \")\n",
        "  print('\\t\\tTrong so w toi uu la: ', w_opt)\n",
        "  print('\\t\\tGia tri Loss toi uu: ', J_hist[-1])\n",
        "\n",
        "if __name__ == \"__main__\":\n",
        "  main()"
      ],
      "metadata": {
        "colab": {
          "base_uri": "https://localhost:8080/"
        },
        "id": "NWwE6HAjjYt4",
        "outputId": "d74d7129-f8b8-4302-cba7-c917bd87b787"
      },
      "execution_count": 15,
      "outputs": [
        {
          "output_type": "stream",
          "name": "stdout",
          "text": [
            "-0.5067801656080071\n",
            "-0.3270580397857178\n",
            "Ket qua la: \n",
            "\t\tTrong so w toi uu la:  [[0.41683919]\n",
            " [1.31218868]\n",
            " [1.15423699]]\n",
            "\t\tGia tri Loss toi uu:  0.5186665295508813\n"
          ]
        }
      ]
    },
    {
      "cell_type": "code",
      "source": [],
      "metadata": {
        "id": "iHb44iYgkRwH"
      },
      "execution_count": 15,
      "outputs": []
    }
  ]
}