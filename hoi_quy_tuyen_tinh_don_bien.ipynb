{
  "nbformat": 4,
  "nbformat_minor": 0,
  "metadata": {
    "colab": {
      "provenance": [],
      "authorship_tag": "ABX9TyPKSMY9nBW/cYJ9GAVyzQb3",
      "include_colab_link": true
    },
    "kernelspec": {
      "name": "python3",
      "display_name": "Python 3"
    },
    "language_info": {
      "name": "python"
    }
  },
  "cells": [
    {
      "cell_type": "markdown",
      "metadata": {
        "id": "view-in-github",
        "colab_type": "text"
      },
      "source": [
        "<a href=\"https://colab.research.google.com/github/rekuantsun/Hoc-May/blob/main/hoi_quy_tuyen_tinh_don_bien.ipynb\" target=\"_parent\"><img src=\"https://colab.research.google.com/assets/colab-badge.svg\" alt=\"Open In Colab\"/></a>"
      ]
    },
    {
      "cell_type": "code",
      "execution_count": 1,
      "metadata": {
        "id": "vxKwp8dNPDAf"
      },
      "outputs": [],
      "source": [
        "import numpy as np\n",
        "import os"
      ]
    },
    {
      "cell_type": "code",
      "source": [
        "from google.colab import drive\n",
        "drive.mount('/content/drive')"
      ],
      "metadata": {
        "colab": {
          "base_uri": "https://localhost:8080/"
        },
        "id": "iPjyZFTUPVj7",
        "outputId": "a5626a19-a386-4dc5-8dc2-f38f1b00656e"
      },
      "execution_count": 2,
      "outputs": [
        {
          "output_type": "stream",
          "name": "stdout",
          "text": [
            "Mounted at /content/drive\n"
          ]
        }
      ]
    },
    {
      "cell_type": "code",
      "source": [
        "def readData(folder,filename):\n",
        "    data = np.loadtxt(os.path.join(folder,filename),delimiter=\",\")\n",
        "    X = data[:,0]\n",
        "    print('X shape: ',X.shape)\n",
        "    y = data[:,1]\n",
        "    print('Y shape: ',y.shape)\n",
        "    m = y.shape[0]\n",
        "    print('Number of training examples m = ', m)\n",
        "    X = np.stack([np.ones(m), X],axis = 1)\n",
        "    print('Modified X shape: ', X.shape)\n",
        "    return X,y"
      ],
      "metadata": {
        "id": "QJX5R9ctYU1X"
      },
      "execution_count": 27,
      "outputs": []
    },
    {
      "cell_type": "code",
      "source": [
        "def calculateLoss(X, y, w):\n",
        "    m = y.shape[0]\n",
        "    h = np.dot(X,w)\n",
        "    J = (1/(2*m))*np.sum(np.square(h-y))\n",
        "    return J"
      ],
      "metadata": {
        "id": "-D5Tianb38DM"
      },
      "execution_count": 15,
      "outputs": []
    },
    {
      "cell_type": "code",
      "source": [
        "def gradientDescent(X,y,w,alpha,n):\n",
        "    m = y.shape[0]\n",
        "    J_history = []\n",
        "    w_optimal = w.copy()\n",
        "    for i in range (n):\n",
        "      w_optimal = w_optimal - (alpha/m)*(np.dot(X,w_optimal) - y).dot(X)\n",
        "      J_history.append(calculateLoss(X,y,w_optimal))\n",
        "    return w_optimal, J_history"
      ],
      "metadata": {
        "id": "c5qcdTia43W1"
      },
      "execution_count": 16,
      "outputs": []
    },
    {
      "cell_type": "code",
      "source": [
        "def main():\n",
        "    alpha = 0.01\n",
        "    w = np.zeros(2)\n",
        "    n = 1500\n",
        "    X, y = readData('/content/drive/MyDrive','ex1data1.txt')\n",
        "    w, J_hist = gradientDescent(X,y,w,alpha,n)\n",
        "    print('Optimal weights',w)\n",
        "    print('Loss at optimal point:',J_hist[-1])\n",
        "if __name__ == \"__main__\":\n",
        "    main()"
      ],
      "metadata": {
        "colab": {
          "base_uri": "https://localhost:8080/"
        },
        "id": "E3IfXvQ95zg3",
        "outputId": "4f2d0d3e-366c-4d9d-945c-8a9cb0cb72bd"
      },
      "execution_count": 28,
      "outputs": [
        {
          "output_type": "stream",
          "name": "stdout",
          "text": [
            "X shape:  (97,)\n",
            "Y shape:  (97,)\n",
            "Number of training examples m =  97\n",
            "Modified X shape:  (97, 2)\n",
            "Optimal weights [-3.63029144  1.16636235]\n",
            "Loss at optimal point: 4.483388256587725\n"
          ]
        }
      ]
    },
    {
      "cell_type": "code",
      "source": [],
      "metadata": {
        "id": "DbzNVxDN6-s3"
      },
      "execution_count": null,
      "outputs": []
    }
  ]
}