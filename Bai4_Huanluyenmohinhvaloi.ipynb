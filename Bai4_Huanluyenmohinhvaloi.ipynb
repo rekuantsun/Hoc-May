{
  "nbformat": 4,
  "nbformat_minor": 0,
  "metadata": {
    "colab": {
      "provenance": [],
      "authorship_tag": "ABX9TyNIoi9uROs9dufNyiUcV92I",
      "include_colab_link": true
    },
    "kernelspec": {
      "name": "python3",
      "display_name": "Python 3"
    },
    "language_info": {
      "name": "python"
    }
  },
  "cells": [
    {
      "cell_type": "markdown",
      "metadata": {
        "id": "view-in-github",
        "colab_type": "text"
      },
      "source": [
        "<a href=\"https://colab.research.google.com/github/rekuantsun/Hoc-May/blob/main/Bai4_Huanluyenmohinhvaloi.ipynb\" target=\"_parent\"><img src=\"https://colab.research.google.com/assets/colab-badge.svg\" alt=\"Open In Colab\"/></a>"
      ]
    },
    {
      "cell_type": "code",
      "execution_count": 8,
      "metadata": {
        "id": "Fd7qA5LBe8aS"
      },
      "outputs": [],
      "source": [
        "import os\n",
        "import numpy as np\n",
        "from sklearn.model_selection import train_test_split\n",
        "folder = \"/content\"\n",
        "filename = \"ex1data1.txt\"\n",
        "D = np.loadtxt(os.path.join(folder, filename), delimiter=',')\n",
        "X, y = D[:,:-1], D[:,-1]\n",
        "X_train, X_test, y_train, y_test = train_test_split(X, y, test_size=0.30, random_state=15)"
      ]
    },
    {
      "cell_type": "code",
      "source": [
        "X_train"
      ],
      "metadata": {
        "colab": {
          "base_uri": "https://localhost:8080/"
        },
        "id": "6Fl9xUtkiucx",
        "outputId": "aeb8f6a4-ecb5-42e4-a905-a0d16f2e6722"
      },
      "execution_count": 12,
      "outputs": [
        {
          "output_type": "execute_result",
          "data": {
            "text/plain": [
              "array([[10.236 ],\n",
              "       [ 6.4296],\n",
              "       [ 5.1793],\n",
              "       [ 7.2182],\n",
              "       [ 6.5159],\n",
              "       [ 9.1802],\n",
              "       [ 5.7737],\n",
              "       [ 5.3077],\n",
              "       [ 5.8918],\n",
              "       [ 6.3557],\n",
              "       [ 5.0702],\n",
              "       [13.394 ],\n",
              "       [ 7.2259],\n",
              "       [ 9.3102],\n",
              "       [ 7.5386],\n",
              "       [11.7   ],\n",
              "       [ 5.5649],\n",
              "       [ 7.4239],\n",
              "       [ 5.0365],\n",
              "       [ 9.7687],\n",
              "       [11.708 ],\n",
              "       [ 8.5186],\n",
              "       [ 8.5781],\n",
              "       [ 5.8598],\n",
              "       [ 7.9334],\n",
              "       [ 5.8707],\n",
              "       [ 5.7077],\n",
              "       [ 5.4369],\n",
              "       [ 5.0269],\n",
              "       [ 5.4901],\n",
              "       [ 5.4069],\n",
              "       [ 8.2951],\n",
              "       [ 6.8825],\n",
              "       [ 7.4764],\n",
              "       [ 7.6031],\n",
              "       [ 7.5402],\n",
              "       [ 8.2111],\n",
              "       [12.828 ],\n",
              "       [ 5.5204],\n",
              "       [ 5.5277],\n",
              "       [ 5.5416],\n",
              "       [ 6.2742],\n",
              "       [ 5.7292],\n",
              "       [22.203 ],\n",
              "       [ 8.8254],\n",
              "       [ 7.8247],\n",
              "       [ 7.0708],\n",
              "       [ 5.6063],\n",
              "       [ 6.3534],\n",
              "       [ 5.4994],\n",
              "       [ 5.3794],\n",
              "       [ 5.7107],\n",
              "       [21.279 ],\n",
              "       [ 9.2482],\n",
              "       [ 6.3261],\n",
              "       [ 6.5894],\n",
              "       [ 5.1301],\n",
              "       [ 5.8014],\n",
              "       [ 8.5172],\n",
              "       [ 6.5479],\n",
              "       [ 7.3345],\n",
              "       [10.957 ],\n",
              "       [13.176 ],\n",
              "       [ 6.1101],\n",
              "       [ 8.3829],\n",
              "       [ 5.734 ],\n",
              "       [ 6.0062]])"
            ]
          },
          "metadata": {},
          "execution_count": 12
        }
      ]
    },
    {
      "cell_type": "code",
      "source": [
        "X_test"
      ],
      "metadata": {
        "colab": {
          "base_uri": "https://localhost:8080/"
        },
        "id": "Irlv2dqQjrKA",
        "outputId": "b0b70a8a-c83b-4dce-d1f2-ea2e2bc0cdb4"
      },
      "execution_count": 13,
      "outputs": [
        {
          "output_type": "execute_result",
          "data": {
            "text/plain": [
              "array([[10.274 ],\n",
              "       [ 5.1077],\n",
              "       [ 5.6397],\n",
              "       [ 7.6366],\n",
              "       [14.164 ],\n",
              "       [20.341 ],\n",
              "       [ 6.3589],\n",
              "       [ 5.1884],\n",
              "       [ 5.6407],\n",
              "       [ 5.0594],\n",
              "       [ 7.0931],\n",
              "       [20.27  ],\n",
              "       [ 8.0959],\n",
              "       [ 6.4862],\n",
              "       [ 9.4536],\n",
              "       [ 6.3328],\n",
              "       [ 5.0546],\n",
              "       [18.945 ],\n",
              "       [ 8.2934],\n",
              "       [ 6.002 ],\n",
              "       [ 7.0032],\n",
              "       [ 6.1891],\n",
              "       [18.959 ],\n",
              "       [14.908 ],\n",
              "       [10.136 ],\n",
              "       [ 5.3054],\n",
              "       [12.836 ],\n",
              "       [ 8.4084],\n",
              "       [ 6.3654],\n",
              "       [ 5.2524]])"
            ]
          },
          "metadata": {},
          "execution_count": 13
        }
      ]
    },
    {
      "cell_type": "code",
      "source": [
        "y_train"
      ],
      "metadata": {
        "colab": {
          "base_uri": "https://localhost:8080/"
        },
        "id": "bs3T_LuLkT0A",
        "outputId": "f7ac4fa1-4a6a-4f46-e9ef-87bbdba4fca4"
      },
      "execution_count": 14,
      "outputs": [
        {
          "output_type": "execute_result",
          "data": {
            "text/plain": [
              "array([ 7.7754 ,  3.6518 , -0.74279,  4.8852 ,  5.3436 ,  6.7981 ,\n",
              "        2.4406 ,  1.8396 ,  1.8495 ,  0.67861,  5.1337 ,  9.0551 ,\n",
              "        3.3411 ,  3.9624 ,  3.8845 ,  8.0043 ,  3.0825 ,  4.2885 ,\n",
              "        5.7014 ,  7.5435 ,  5.3854 , 13.662  , 12.     ,  6.8233 ,\n",
              "        4.5623 ,  7.2029 ,  1.8451 ,  0.61705, -2.6807 ,  4.263  ,\n",
              "        0.55657,  5.7442 ,  3.9115 ,  4.3483 ,  4.9981 ,  6.7504 ,\n",
              "        6.5426 , 13.501  ,  0.152  ,  9.1302 ,  1.0179 ,  2.4756 ,\n",
              "        0.47953, 24.147  ,  5.1694 ,  6.7318 ,  5.3893 ,  3.3928 ,\n",
              "        5.4974 ,  1.0173 ,  3.5129 ,  3.2522 , 17.929  , 12.134  ,\n",
              "        5.1875 ,  5.9966 ,  0.56077,  1.844  ,  4.2415 ,  0.29678,\n",
              "        4.0259 ,  7.0467 , 14.692  , 17.592  , 11.886  ,  3.1551 ,\n",
              "        1.2784 ])"
            ]
          },
          "metadata": {},
          "execution_count": 14
        }
      ]
    },
    {
      "cell_type": "code",
      "source": [
        "y_test"
      ],
      "metadata": {
        "colab": {
          "base_uri": "https://localhost:8080/"
        },
        "id": "_PV_3KXbkW7P",
        "outputId": "e1b67ef7-087d-457e-938d-ad0cdc482339"
      },
      "execution_count": 15,
      "outputs": [
        {
          "output_type": "execute_result",
          "data": {
            "text/plain": [
              "array([ 6.7526 ,  2.0576 ,  4.6042 ,  4.2959 , 15.505  , 20.992  ,\n",
              "       -1.4211 ,  0.20421,  0.71618,  2.8214 ,  1.0463 , 21.767  ,\n",
              "        4.1164 ,  6.5987 ,  5.4141 ,  1.4233 ,  3.8166 , 22.638  ,\n",
              "        0.14454,  0.92695, 11.854  ,  3.1386 , 17.054  , 12.054  ,\n",
              "        6.6799 ,  1.9869 , 10.117  ,  7.2258 ,  5.3048 , -1.22   ])"
            ]
          },
          "metadata": {},
          "execution_count": 15
        }
      ]
    },
    {
      "cell_type": "markdown",
      "source": [
        "# 1) Hãy liệt kê tất cả tham số của hàm train_test_split() và ý nghĩa của chúng."
      ],
      "metadata": {
        "id": "GoTKfc1ukxnI"
      }
    },
    {
      "cell_type": "markdown",
      "source": [
        "Thông số:\n",
        "\n",
        "**arrays: chuỗi các chỉ mục có cùng độ dài/hình dạng[0]**\n",
        "\n",
        "Đầu vào được phép là danh sách, mảng gọn gàng, ma trận scipy-thưa thớt hoặc khung dữ liệu gấu trúc.\n",
        "\n",
        "**test_size: float hoặc int, default=None**\n",
        "\n",
        "Nếu là float, giá trị này phải nằm trong khoảng từ 0,0 đến 1,0 và biểu thị tỷ lệ của tập dữ liệu được đưa vào phân tách thử nghiệm. Nếu int, đại diện cho số lượng mẫu thử nghiệm tuyệt đối. Nếu Không, giá trị được đặt thành phần bù của kích thước đoàn tàu. Nếu train_size cũng là Không, nó sẽ được đặt thành 0,25.\n",
        "\n",
        "**train_size: float hoặc int, default=None**\n",
        "\n",
        "Nếu thả nổi, phải nằm trong khoảng từ 0,0 đến 1,0 và biểu thị tỷ lệ của tập dữ liệu sẽ bao gồm trong quá trình phân tách tàu. Nếu int, đại diện cho số lượng mẫu tàu tuyệt đối. Nếu Không, giá trị sẽ tự động được đặt thành phần bù của kích thước thử nghiệm.\n",
        "\n",
        "**Random_state: int, RandomState dụ hoặc Không, default=None**\n",
        "\n",
        "Kiểm soát việc xáo trộn được áp dụng cho dữ liệu trước khi áp dụng phân tách. Truyền một int cho đầu ra có thể lặp lại qua nhiều lệnh gọi hàm. Xem Thuật ngữ.\n",
        "\n",
        "**shuffle: bool, mặc định=True**\n",
        "\n",
        "Có xáo trộn dữ liệu trước khi tách hay không. Nếu shuffle=False thì phân tầng phải là Không có.\n",
        "\n",
        "**stratify: dạng mảng, default=None**\n",
        "\n",
        "Nếu không phải là Không, dữ liệu được phân chia theo kiểu phân tầng, sử dụng dữ liệu này làm nhãn lớp. Đọc thêm trong Hướng dẫn sử dụng."
      ],
      "metadata": {
        "id": "F8T7XjAGlQIn"
      }
    },
    {
      "cell_type": "markdown",
      "source": [
        "# 2) Tại sao khi thực hiện chia train – test, nên lựa chọn tham số shuffle = True? (lưu ý đây là giá trị mặc định)"
      ],
      "metadata": {
        "id": "06b2GJkjqiTs"
      }
    },
    {
      "cell_type": "markdown",
      "source": [
        "Tham số **shuffle** là cần thiết để ngăn việc gán không ngẫu nhiên cho tập huấn luyện và kiểm tra. Với shuffle = Truebạn tách dữ liệu một cách ngẫu nhiên. Ví dụ: giả sử bạn có dữ liệu phân loại nhị phân cân bằng và dữ liệu được sắp xếp theo nhãn. Nếu bạn chia nó theo tỷ lệ 80:20 để huấn luyện và kiểm tra, thì dữ liệu kiểm tra của bạn sẽ chỉ chứa các nhãn từ một lớp. Xáo trộn ngẫu nhiên ngăn chặn điều này."
      ],
      "metadata": {
        "id": "XLrxwKxzuKns"
      }
    },
    {
      "cell_type": "code",
      "source": [],
      "metadata": {
        "id": "UZjlWisqqi-M"
      },
      "execution_count": null,
      "outputs": []
    }
  ]
}