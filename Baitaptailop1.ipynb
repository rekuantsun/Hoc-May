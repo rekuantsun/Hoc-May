{
  "nbformat": 4,
  "nbformat_minor": 0,
  "metadata": {
    "colab": {
      "provenance": [],
      "authorship_tag": "ABX9TyN46kPmllk+JRksy2HriEMb",
      "include_colab_link": true
    },
    "kernelspec": {
      "name": "python3",
      "display_name": "Python 3"
    },
    "language_info": {
      "name": "python"
    }
  },
  "cells": [
    {
      "cell_type": "markdown",
      "metadata": {
        "id": "view-in-github",
        "colab_type": "text"
      },
      "source": [
        "<a href=\"https://colab.research.google.com/github/rekuantsun/Hoc-May/blob/main/Baitaptailop1.ipynb\" target=\"_parent\"><img src=\"https://colab.research.google.com/assets/colab-badge.svg\" alt=\"Open In Colab\"/></a>"
      ]
    },
    {
      "cell_type": "markdown",
      "source": [
        "MÃ LỆNH PYTHON"
      ],
      "metadata": {
        "id": "uyOoMufMTaWH"
      }
    },
    {
      "cell_type": "markdown",
      "source": [
        "Thư viện"
      ],
      "metadata": {
        "id": "twbMaeTQTq2c"
      }
    },
    {
      "cell_type": "code",
      "source": [
        "import numpy as np"
      ],
      "metadata": {
        "id": "blIoEj8gTZpl"
      },
      "execution_count": 1,
      "outputs": []
    },
    {
      "cell_type": "code",
      "execution_count": 2,
      "metadata": {
        "id": "RAn2HuKTS5-M"
      },
      "outputs": [],
      "source": [
        "#1\n",
        "v = np.array([1,2,3,4,5])"
      ]
    },
    {
      "cell_type": "code",
      "source": [
        "#2\n",
        "w = np.array([1,2,3,4,5]).reshape(-1,1)"
      ],
      "metadata": {
        "id": "IDk-LMmtUFre"
      },
      "execution_count": 9,
      "outputs": []
    },
    {
      "cell_type": "code",
      "source": [
        "#3\n",
        "v.ndim\n",
        "w.ndim\n",
        "print(v.shape)\n",
        "print(w.shape)\n",
        "print(v)\n",
        "print(w)"
      ],
      "metadata": {
        "colab": {
          "base_uri": "https://localhost:8080/"
        },
        "id": "_fA06Gi0UtB8",
        "outputId": "144cd6b3-eaf1-494f-f997-7319c7c99ddf"
      },
      "execution_count": 10,
      "outputs": [
        {
          "output_type": "stream",
          "name": "stdout",
          "text": [
            "(5,)\n",
            "(5, 1)\n",
            "[1 2 3 4 5]\n",
            "[[1]\n",
            " [2]\n",
            " [3]\n",
            " [4]\n",
            " [5]]\n"
          ]
        }
      ]
    },
    {
      "cell_type": "code",
      "source": [
        "#4\n",
        "x = np.array([1,2,3,4,5])\n",
        "y = np.array([6,7,8,9,10])\n",
        "X = np.column_stack((x,y))\n",
        "print(X)"
      ],
      "metadata": {
        "colab": {
          "base_uri": "https://localhost:8080/"
        },
        "id": "MnkQNyO8YGRL",
        "outputId": "88c39f5f-2f50-43e4-a825-3662a0c49c66"
      },
      "execution_count": 11,
      "outputs": [
        {
          "output_type": "stream",
          "name": "stdout",
          "text": [
            "[[ 1  6]\n",
            " [ 2  7]\n",
            " [ 3  8]\n",
            " [ 4  9]\n",
            " [ 5 10]]\n"
          ]
        }
      ]
    },
    {
      "cell_type": "code",
      "source": [
        "#5 \n",
        "X = np.array([1,2,3,4,5,6,7,8,9,2,4,5,7,2,1]).reshape(3,5)\n",
        "print(X)\n",
        "print(X.ndim, X.shape)"
      ],
      "metadata": {
        "colab": {
          "base_uri": "https://localhost:8080/"
        },
        "id": "P2RoZtzUZaT7",
        "outputId": "aaf16067-6bc1-474e-a1de-06139b264c31"
      },
      "execution_count": 12,
      "outputs": [
        {
          "output_type": "stream",
          "name": "stdout",
          "text": [
            "[[1 2 3 4 5]\n",
            " [6 7 8 9 2]\n",
            " [4 5 7 2 1]]\n",
            "2 (3, 5)\n"
          ]
        }
      ]
    },
    {
      "cell_type": "code",
      "source": [
        "#6\n",
        "Xv = np.dot(X,v)\n",
        "print(Xv)\n",
        "print(Xv.ndim, Xv.shape)"
      ],
      "metadata": {
        "colab": {
          "base_uri": "https://localhost:8080/"
        },
        "id": "csTv0vy6bsKp",
        "outputId": "8a84038b-fd04-4046-86ec-c23dbba3ad61"
      },
      "execution_count": 13,
      "outputs": [
        {
          "output_type": "stream",
          "name": "stdout",
          "text": [
            "[55 90 48]\n",
            "1 (3,)\n"
          ]
        }
      ]
    },
    {
      "cell_type": "code",
      "source": [
        "#7\n",
        "Xw = np.dot(X,w)\n",
        "print(Xw)\n",
        "print(Xw.ndim, Xw.shape)"
      ],
      "metadata": {
        "colab": {
          "base_uri": "https://localhost:8080/"
        },
        "id": "OK_FnQySb7uZ",
        "outputId": "609b024c-f829-4387-c207-0c917f7599b2"
      },
      "execution_count": 14,
      "outputs": [
        {
          "output_type": "stream",
          "name": "stdout",
          "text": [
            "[[55]\n",
            " [90]\n",
            " [48]]\n",
            "2 (3, 1)\n"
          ]
        }
      ]
    },
    {
      "cell_type": "code",
      "source": [
        "#8\n",
        "XT = X.T\n",
        "print(XT)"
      ],
      "metadata": {
        "colab": {
          "base_uri": "https://localhost:8080/"
        },
        "id": "aArTH0mJcYl5",
        "outputId": "ec883c47-bb57-4945-e66e-b462bf00929d"
      },
      "execution_count": 15,
      "outputs": [
        {
          "output_type": "stream",
          "name": "stdout",
          "text": [
            "[[1 6 4]\n",
            " [2 7 5]\n",
            " [3 8 7]\n",
            " [4 9 2]\n",
            " [5 2 1]]\n"
          ]
        }
      ]
    },
    {
      "cell_type": "code",
      "source": [],
      "metadata": {
        "id": "7koGv9YtieSG"
      },
      "execution_count": null,
      "outputs": []
    }
  ]
}