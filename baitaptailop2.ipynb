{
  "nbformat": 4,
  "nbformat_minor": 0,
  "metadata": {
    "colab": {
      "provenance": [],
      "authorship_tag": "ABX9TyNPy/chxSWyHisZen+WA+y+",
      "include_colab_link": true
    },
    "kernelspec": {
      "name": "python3",
      "display_name": "Python 3"
    },
    "language_info": {
      "name": "python"
    }
  },
  "cells": [
    {
      "cell_type": "markdown",
      "metadata": {
        "id": "view-in-github",
        "colab_type": "text"
      },
      "source": [
        "<a href=\"https://colab.research.google.com/github/rekuantsun/Hoc-May/blob/main/baitaptailop2.ipynb\" target=\"_parent\"><img src=\"https://colab.research.google.com/assets/colab-badge.svg\" alt=\"Open In Colab\"/></a>"
      ]
    },
    {
      "cell_type": "code",
      "execution_count": 1,
      "metadata": {
        "id": "N4WxdN3GMtgC"
      },
      "outputs": [],
      "source": [
        "import numpy as np"
      ]
    },
    {
      "cell_type": "code",
      "source": [
        "#1\n",
        "X = np.array([[1,2,3,4,5],[6,7,8,9,2],[4,5,7,2,1]])\n",
        "print (X)\n",
        "X = X.reshape(5,3)\n",
        "print(X)"
      ],
      "metadata": {
        "colab": {
          "base_uri": "https://localhost:8080/"
        },
        "id": "GH9wrybhOF-W",
        "outputId": "0c4d55ea-3531-4954-f9d0-ae33155b4ee5"
      },
      "execution_count": 12,
      "outputs": [
        {
          "output_type": "stream",
          "name": "stdout",
          "text": [
            "[[1 2 3 4 5]\n",
            " [6 7 8 9 2]\n",
            " [4 5 7 2 1]]\n",
            "[[1 2 3]\n",
            " [4 5 6]\n",
            " [7 8 9]\n",
            " [2 4 5]\n",
            " [7 2 1]]\n"
          ]
        }
      ]
    },
    {
      "cell_type": "code",
      "source": [
        "#2\n",
        "w = np.array([2,4,2]).reshape(-1,1)\n",
        "print (w)"
      ],
      "metadata": {
        "colab": {
          "base_uri": "https://localhost:8080/"
        },
        "id": "_E-E1w95OYr3",
        "outputId": "cd4b0c65-8f46-49df-bad0-350d0a6e8612"
      },
      "execution_count": 9,
      "outputs": [
        {
          "output_type": "stream",
          "name": "stdout",
          "text": [
            "[[2]\n",
            " [4]\n",
            " [2]]\n"
          ]
        }
      ]
    },
    {
      "cell_type": "code",
      "source": [
        "#3\n",
        "hw = X.dot(w)\n",
        "print (hw)\n",
        "\n",
        "print(hw.ndim)\n",
        "print(hw.shape)"
      ],
      "metadata": {
        "colab": {
          "base_uri": "https://localhost:8080/"
        },
        "id": "x6EicY-xXaJE",
        "outputId": "4754833c-8f2c-40c2-8efb-44c5022893bd"
      },
      "execution_count": 14,
      "outputs": [
        {
          "output_type": "stream",
          "name": "stdout",
          "text": [
            "[[16]\n",
            " [40]\n",
            " [64]\n",
            " [30]\n",
            " [24]]\n",
            "2\n",
            "(5, 1)\n"
          ]
        }
      ]
    },
    {
      "cell_type": "code",
      "source": [
        "#4\n",
        "y= np.reshape([1,2, 3, 2, 1], (5, 1))\n",
        "print(y)"
      ],
      "metadata": {
        "colab": {
          "base_uri": "https://localhost:8080/"
        },
        "id": "YMJhrYmTXz2d",
        "outputId": "6a367ee6-a454-4f60-b995-e8e4a0b801e2"
      },
      "execution_count": 16,
      "outputs": [
        {
          "output_type": "stream",
          "name": "stdout",
          "text": [
            "[[1]\n",
            " [2]\n",
            " [3]\n",
            " [2]\n",
            " [1]]\n"
          ]
        }
      ]
    },
    {
      "cell_type": "code",
      "source": [
        "#5\n",
        "hieu = hw - y\n",
        "print('dimension: ', hieu.ndim)\n",
        "print(hieu.shape)\n",
        "print(hieu)"
      ],
      "metadata": {
        "colab": {
          "base_uri": "https://localhost:8080/"
        },
        "id": "_8yhBnDvgZEb",
        "outputId": "beac74df-f090-4093-aa16-8b8d153ba0fc"
      },
      "execution_count": 18,
      "outputs": [
        {
          "output_type": "stream",
          "name": "stdout",
          "text": [
            "dimension:  2\n",
            "(5, 1)\n",
            "[[15]\n",
            " [38]\n",
            " [61]\n",
            " [28]\n",
            " [23]]\n"
          ]
        }
      ]
    },
    {
      "cell_type": "code",
      "source": [
        "#6\n",
        "h2 = np.dot(X.T, hieu)\n",
        "print('dimension: ', h2.ndim)\n",
        "print(h2.shape)\n",
        "print(h2)"
      ],
      "metadata": {
        "colab": {
          "base_uri": "https://localhost:8080/"
        },
        "id": "EvFdfUS3gfV5",
        "outputId": "75e3aa41-ffa4-4240-9434-5c4e51a94bfc"
      },
      "execution_count": 19,
      "outputs": [
        {
          "output_type": "stream",
          "name": "stdout",
          "text": [
            "dimension:  2\n",
            "(3, 1)\n",
            "[[811]\n",
            " [866]\n",
            " [985]]\n"
          ]
        }
      ]
    },
    {
      "cell_type": "code",
      "source": [],
      "metadata": {
        "id": "zeGN7VJJgnhH"
      },
      "execution_count": null,
      "outputs": []
    }
  ]
}