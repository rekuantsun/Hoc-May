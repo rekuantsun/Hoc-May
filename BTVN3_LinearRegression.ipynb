{
  "nbformat": 4,
  "nbformat_minor": 0,
  "metadata": {
    "colab": {
      "provenance": [],
      "include_colab_link": true
    },
    "kernelspec": {
      "name": "python3",
      "display_name": "Python 3"
    },
    "language_info": {
      "name": "python"
    }
  },
  "cells": [
    {
      "cell_type": "markdown",
      "metadata": {
        "id": "view-in-github",
        "colab_type": "text"
      },
      "source": [
        "<a href=\"https://colab.research.google.com/github/rekuantsun/Hoc-May/blob/main/BTVN3_LinearRegression.ipynb\" target=\"_parent\"><img src=\"https://colab.research.google.com/assets/colab-badge.svg\" alt=\"Open In Colab\"/></a>"
      ]
    },
    {
      "cell_type": "code",
      "source": [
        "import os\n",
        "import numpy as np\n",
        "from sklearn.linear_model import LinearRegression\n",
        "from sklearn import preprocessing"
      ],
      "metadata": {
        "id": "fj9mel_qCSXi"
      },
      "execution_count": null,
      "outputs": []
    },
    {
      "cell_type": "code",
      "execution_count": null,
      "metadata": {
        "colab": {
          "base_uri": "https://localhost:8080/"
        },
        "id": "4Fr7oxHTBInT",
        "outputId": "ccefa6ce-dc66-426f-e8fe-cdb58d381149"
      },
      "outputs": [
        {
          "output_type": "stream",
          "name": "stdout",
          "text": [
            "Kích thước của tập dữ liệu:  (47, 3)\n",
            "Kích thước tập X:  (47, 2)\n",
            "Kích thước vector y:  (47,)\n",
            "Huấn luyện mô hình LinearRegression\n",
            "trong so toi uu [ 0.95241114 -0.06594731]\n"
          ]
        }
      ],
      "source": [
        "data = np.loadtxt(os.path.join(\"/content/ex1data2 (1).txt\"),delimiter=\",\")\n",
        "data = preprocessing.MinMaxScaler().fit_transform(data)\n",
        "print('Kích thước của tập dữ liệu: ',data.shape)\n",
        "X= data[:,:-1]\n",
        "y=data[:, -1]\n",
        "print('Kích thước tập X: ', X.shape)\n",
        "print('Kích thước vector y: ', y.shape)\n",
        "print('Huấn luyện mô hình LinearRegression')\n",
        "model = LinearRegression()\n",
        "#Huấn luyện mô hình với tập dữ liệu X, y\n",
        "model.fit(X,y)\n",
        "print('trong so toi uu', model.coef_)"
      ]
    }
  ]
}